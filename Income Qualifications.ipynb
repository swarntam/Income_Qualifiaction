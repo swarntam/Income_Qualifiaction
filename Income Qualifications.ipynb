{
 "cells": [
  {
   "cell_type": "code",
   "execution_count": 1,
   "id": "e2f2e252",
   "metadata": {},
   "outputs": [],
   "source": [
    "# Importing the required libraries.\n",
    "\n",
    "import numpy as np\n",
    "import pandas as pd\n",
    "import matplotlib.pyplot as plt\n",
    "import seaborn as sns\n",
    "import warnings\n",
    "\n",
    "from sklearn.model_selection import train_test_split\n",
    "from sklearn.ensemble import RandomForestClassifier\n",
    "from sklearn.metrics import classification_report, accuracy_score\n",
    "from sklearn.metrics import ConfusionMatrixDisplay\n",
    "from sklearn.model_selection import StratifiedKFold\n",
    "from sklearn.impute import KNNImputer\n",
    "\n",
    "warnings.filterwarnings(\"ignore\")\n",
    "sns.set()"
   ]
  },
  {
   "cell_type": "code",
   "execution_count": 2,
   "id": "87cee778",
   "metadata": {},
   "outputs": [],
   "source": [
    "# Importing the data in python environment.\n",
    "train_raw = pd.read_csv(\"train.csv\")\n",
    "train = train_raw.copy()\n",
    "test_raw = pd.read_csv(\"test.csv\")\n",
    "test = test_raw.copy()"
   ]
  },
  {
   "cell_type": "code",
   "execution_count": 3,
   "id": "c5bf82d1",
   "metadata": {},
   "outputs": [
    {
     "data": {
      "text/html": [
       "<div>\n",
       "<style scoped>\n",
       "    .dataframe tbody tr th:only-of-type {\n",
       "        vertical-align: middle;\n",
       "    }\n",
       "\n",
       "    .dataframe tbody tr th {\n",
       "        vertical-align: top;\n",
       "    }\n",
       "\n",
       "    .dataframe thead th {\n",
       "        text-align: right;\n",
       "    }\n",
       "</style>\n",
       "<table border=\"1\" class=\"dataframe\">\n",
       "  <thead>\n",
       "    <tr style=\"text-align: right;\">\n",
       "      <th></th>\n",
       "      <th>Id</th>\n",
       "      <th>v2a1</th>\n",
       "      <th>hacdor</th>\n",
       "      <th>rooms</th>\n",
       "      <th>hacapo</th>\n",
       "      <th>v14a</th>\n",
       "      <th>refrig</th>\n",
       "      <th>v18q</th>\n",
       "      <th>v18q1</th>\n",
       "      <th>r4h1</th>\n",
       "      <th>...</th>\n",
       "      <th>SQBescolari</th>\n",
       "      <th>SQBage</th>\n",
       "      <th>SQBhogar_total</th>\n",
       "      <th>SQBedjefe</th>\n",
       "      <th>SQBhogar_nin</th>\n",
       "      <th>SQBovercrowding</th>\n",
       "      <th>SQBdependency</th>\n",
       "      <th>SQBmeaned</th>\n",
       "      <th>agesq</th>\n",
       "      <th>Target</th>\n",
       "    </tr>\n",
       "  </thead>\n",
       "  <tbody>\n",
       "    <tr>\n",
       "      <th>0</th>\n",
       "      <td>ID_279628684</td>\n",
       "      <td>190000.0</td>\n",
       "      <td>0</td>\n",
       "      <td>3</td>\n",
       "      <td>0</td>\n",
       "      <td>1</td>\n",
       "      <td>1</td>\n",
       "      <td>0</td>\n",
       "      <td>NaN</td>\n",
       "      <td>0</td>\n",
       "      <td>...</td>\n",
       "      <td>100</td>\n",
       "      <td>1849</td>\n",
       "      <td>1</td>\n",
       "      <td>100</td>\n",
       "      <td>0</td>\n",
       "      <td>1.00</td>\n",
       "      <td>0.0</td>\n",
       "      <td>100.0</td>\n",
       "      <td>1849</td>\n",
       "      <td>4</td>\n",
       "    </tr>\n",
       "    <tr>\n",
       "      <th>1</th>\n",
       "      <td>ID_f29eb3ddd</td>\n",
       "      <td>135000.0</td>\n",
       "      <td>0</td>\n",
       "      <td>4</td>\n",
       "      <td>0</td>\n",
       "      <td>1</td>\n",
       "      <td>1</td>\n",
       "      <td>1</td>\n",
       "      <td>1.0</td>\n",
       "      <td>0</td>\n",
       "      <td>...</td>\n",
       "      <td>144</td>\n",
       "      <td>4489</td>\n",
       "      <td>1</td>\n",
       "      <td>144</td>\n",
       "      <td>0</td>\n",
       "      <td>1.00</td>\n",
       "      <td>64.0</td>\n",
       "      <td>144.0</td>\n",
       "      <td>4489</td>\n",
       "      <td>4</td>\n",
       "    </tr>\n",
       "    <tr>\n",
       "      <th>2</th>\n",
       "      <td>ID_68de51c94</td>\n",
       "      <td>NaN</td>\n",
       "      <td>0</td>\n",
       "      <td>8</td>\n",
       "      <td>0</td>\n",
       "      <td>1</td>\n",
       "      <td>1</td>\n",
       "      <td>0</td>\n",
       "      <td>NaN</td>\n",
       "      <td>0</td>\n",
       "      <td>...</td>\n",
       "      <td>121</td>\n",
       "      <td>8464</td>\n",
       "      <td>1</td>\n",
       "      <td>0</td>\n",
       "      <td>0</td>\n",
       "      <td>0.25</td>\n",
       "      <td>64.0</td>\n",
       "      <td>121.0</td>\n",
       "      <td>8464</td>\n",
       "      <td>4</td>\n",
       "    </tr>\n",
       "  </tbody>\n",
       "</table>\n",
       "<p>3 rows × 143 columns</p>\n",
       "</div>"
      ],
      "text/plain": [
       "             Id      v2a1  hacdor  rooms  hacapo  v14a  refrig  v18q  v18q1  \\\n",
       "0  ID_279628684  190000.0       0      3       0     1       1     0    NaN   \n",
       "1  ID_f29eb3ddd  135000.0       0      4       0     1       1     1    1.0   \n",
       "2  ID_68de51c94       NaN       0      8       0     1       1     0    NaN   \n",
       "\n",
       "   r4h1  ...  SQBescolari  SQBage  SQBhogar_total  SQBedjefe  SQBhogar_nin  \\\n",
       "0     0  ...          100    1849               1        100             0   \n",
       "1     0  ...          144    4489               1        144             0   \n",
       "2     0  ...          121    8464               1          0             0   \n",
       "\n",
       "   SQBovercrowding  SQBdependency  SQBmeaned  agesq  Target  \n",
       "0             1.00            0.0      100.0   1849       4  \n",
       "1             1.00           64.0      144.0   4489       4  \n",
       "2             0.25           64.0      121.0   8464       4  \n",
       "\n",
       "[3 rows x 143 columns]"
      ]
     },
     "execution_count": 3,
     "metadata": {},
     "output_type": "execute_result"
    }
   ],
   "source": [
    "train.head(3)"
   ]
  },
  {
   "cell_type": "code",
   "execution_count": 4,
   "id": "dec133a4",
   "metadata": {},
   "outputs": [
    {
     "data": {
      "text/html": [
       "<div>\n",
       "<style scoped>\n",
       "    .dataframe tbody tr th:only-of-type {\n",
       "        vertical-align: middle;\n",
       "    }\n",
       "\n",
       "    .dataframe tbody tr th {\n",
       "        vertical-align: top;\n",
       "    }\n",
       "\n",
       "    .dataframe thead th {\n",
       "        text-align: right;\n",
       "    }\n",
       "</style>\n",
       "<table border=\"1\" class=\"dataframe\">\n",
       "  <thead>\n",
       "    <tr style=\"text-align: right;\">\n",
       "      <th></th>\n",
       "      <th>Id</th>\n",
       "      <th>v2a1</th>\n",
       "      <th>hacdor</th>\n",
       "      <th>rooms</th>\n",
       "      <th>hacapo</th>\n",
       "      <th>v14a</th>\n",
       "      <th>refrig</th>\n",
       "      <th>v18q</th>\n",
       "      <th>v18q1</th>\n",
       "      <th>r4h1</th>\n",
       "      <th>...</th>\n",
       "      <th>age</th>\n",
       "      <th>SQBescolari</th>\n",
       "      <th>SQBage</th>\n",
       "      <th>SQBhogar_total</th>\n",
       "      <th>SQBedjefe</th>\n",
       "      <th>SQBhogar_nin</th>\n",
       "      <th>SQBovercrowding</th>\n",
       "      <th>SQBdependency</th>\n",
       "      <th>SQBmeaned</th>\n",
       "      <th>agesq</th>\n",
       "    </tr>\n",
       "  </thead>\n",
       "  <tbody>\n",
       "    <tr>\n",
       "      <th>0</th>\n",
       "      <td>ID_2f6873615</td>\n",
       "      <td>NaN</td>\n",
       "      <td>0</td>\n",
       "      <td>5</td>\n",
       "      <td>0</td>\n",
       "      <td>1</td>\n",
       "      <td>1</td>\n",
       "      <td>0</td>\n",
       "      <td>NaN</td>\n",
       "      <td>1</td>\n",
       "      <td>...</td>\n",
       "      <td>4</td>\n",
       "      <td>0</td>\n",
       "      <td>16</td>\n",
       "      <td>9</td>\n",
       "      <td>0</td>\n",
       "      <td>1</td>\n",
       "      <td>2.25</td>\n",
       "      <td>0.25</td>\n",
       "      <td>272.25</td>\n",
       "      <td>16</td>\n",
       "    </tr>\n",
       "    <tr>\n",
       "      <th>1</th>\n",
       "      <td>ID_1c78846d2</td>\n",
       "      <td>NaN</td>\n",
       "      <td>0</td>\n",
       "      <td>5</td>\n",
       "      <td>0</td>\n",
       "      <td>1</td>\n",
       "      <td>1</td>\n",
       "      <td>0</td>\n",
       "      <td>NaN</td>\n",
       "      <td>1</td>\n",
       "      <td>...</td>\n",
       "      <td>41</td>\n",
       "      <td>256</td>\n",
       "      <td>1681</td>\n",
       "      <td>9</td>\n",
       "      <td>0</td>\n",
       "      <td>1</td>\n",
       "      <td>2.25</td>\n",
       "      <td>0.25</td>\n",
       "      <td>272.25</td>\n",
       "      <td>1681</td>\n",
       "    </tr>\n",
       "    <tr>\n",
       "      <th>2</th>\n",
       "      <td>ID_e5442cf6a</td>\n",
       "      <td>NaN</td>\n",
       "      <td>0</td>\n",
       "      <td>5</td>\n",
       "      <td>0</td>\n",
       "      <td>1</td>\n",
       "      <td>1</td>\n",
       "      <td>0</td>\n",
       "      <td>NaN</td>\n",
       "      <td>1</td>\n",
       "      <td>...</td>\n",
       "      <td>41</td>\n",
       "      <td>289</td>\n",
       "      <td>1681</td>\n",
       "      <td>9</td>\n",
       "      <td>0</td>\n",
       "      <td>1</td>\n",
       "      <td>2.25</td>\n",
       "      <td>0.25</td>\n",
       "      <td>272.25</td>\n",
       "      <td>1681</td>\n",
       "    </tr>\n",
       "  </tbody>\n",
       "</table>\n",
       "<p>3 rows × 142 columns</p>\n",
       "</div>"
      ],
      "text/plain": [
       "             Id  v2a1  hacdor  rooms  hacapo  v14a  refrig  v18q  v18q1  r4h1  \\\n",
       "0  ID_2f6873615   NaN       0      5       0     1       1     0    NaN     1   \n",
       "1  ID_1c78846d2   NaN       0      5       0     1       1     0    NaN     1   \n",
       "2  ID_e5442cf6a   NaN       0      5       0     1       1     0    NaN     1   \n",
       "\n",
       "   ...  age  SQBescolari  SQBage  SQBhogar_total  SQBedjefe  SQBhogar_nin  \\\n",
       "0  ...    4            0      16               9          0             1   \n",
       "1  ...   41          256    1681               9          0             1   \n",
       "2  ...   41          289    1681               9          0             1   \n",
       "\n",
       "   SQBovercrowding  SQBdependency  SQBmeaned  agesq  \n",
       "0             2.25           0.25     272.25     16  \n",
       "1             2.25           0.25     272.25   1681  \n",
       "2             2.25           0.25     272.25   1681  \n",
       "\n",
       "[3 rows x 142 columns]"
      ]
     },
     "execution_count": 4,
     "metadata": {},
     "output_type": "execute_result"
    }
   ],
   "source": [
    "test.head(3)"
   ]
  },
  {
   "cell_type": "code",
   "execution_count": 5,
   "id": "6fa0b004",
   "metadata": {},
   "outputs": [
    {
     "name": "stdout",
     "output_type": "stream",
     "text": [
      "Target Variable is  Target\n"
     ]
    }
   ],
   "source": [
    "# Finding target variable\n",
    "for col in train.columns:\n",
    "    if col not in test.columns:\n",
    "        print('Target Variable is ',col)"
   ]
  },
  {
   "cell_type": "markdown",
   "id": "694cc2cd",
   "metadata": {},
   "source": [
    "As the test data is only for predictions , we'll have our all analysis on train data only."
   ]
  },
  {
   "cell_type": "code",
   "execution_count": 6,
   "id": "e6d551ca",
   "metadata": {},
   "outputs": [
    {
     "data": {
      "text/plain": [
       "(9557, 143)"
      ]
     },
     "execution_count": 6,
     "metadata": {},
     "output_type": "execute_result"
    }
   ],
   "source": [
    "train.shape"
   ]
  },
  {
   "cell_type": "code",
   "execution_count": 7,
   "id": "9dbf7f04",
   "metadata": {},
   "outputs": [
    {
     "data": {
      "text/plain": [
       "5"
      ]
     },
     "execution_count": 7,
     "metadata": {},
     "output_type": "execute_result"
    }
   ],
   "source": [
    "# Checking for missing values.\n",
    "train.isnull().any().sum()"
   ]
  },
  {
   "cell_type": "markdown",
   "id": "784eb00a",
   "metadata": {},
   "source": [
    "- We have 5 columns having missing values."
   ]
  },
  {
   "cell_type": "markdown",
   "id": "b9026028",
   "metadata": {},
   "source": [
    "#### Missing Value Treatment"
   ]
  },
  {
   "cell_type": "code",
   "execution_count": 8,
   "id": "4db4de70",
   "metadata": {},
   "outputs": [
    {
     "data": {
      "text/plain": [
       "['v2a1', 'v18q1', 'rez_esc', 'meaneduc', 'SQBmeaned']"
      ]
     },
     "execution_count": 8,
     "metadata": {},
     "output_type": "execute_result"
    }
   ],
   "source": [
    "missing_cols = [x for x in train.columns if train[x].isnull().any()]\n",
    "missing_cols"
   ]
  },
  {
   "cell_type": "code",
   "execution_count": 9,
   "id": "483cf716",
   "metadata": {},
   "outputs": [
    {
     "data": {
      "text/html": [
       "<div>\n",
       "<style scoped>\n",
       "    .dataframe tbody tr th:only-of-type {\n",
       "        vertical-align: middle;\n",
       "    }\n",
       "\n",
       "    .dataframe tbody tr th {\n",
       "        vertical-align: top;\n",
       "    }\n",
       "\n",
       "    .dataframe thead th {\n",
       "        text-align: right;\n",
       "    }\n",
       "</style>\n",
       "<table border=\"1\" class=\"dataframe\">\n",
       "  <thead>\n",
       "    <tr style=\"text-align: right;\">\n",
       "      <th></th>\n",
       "      <th>Columns</th>\n",
       "      <th># Missing values</th>\n",
       "      <th>%</th>\n",
       "    </tr>\n",
       "  </thead>\n",
       "  <tbody>\n",
       "    <tr>\n",
       "      <th>0</th>\n",
       "      <td>v2a1</td>\n",
       "      <td>6860</td>\n",
       "      <td>71.78</td>\n",
       "    </tr>\n",
       "    <tr>\n",
       "      <th>1</th>\n",
       "      <td>v18q1</td>\n",
       "      <td>7342</td>\n",
       "      <td>76.82</td>\n",
       "    </tr>\n",
       "    <tr>\n",
       "      <th>2</th>\n",
       "      <td>rez_esc</td>\n",
       "      <td>7928</td>\n",
       "      <td>82.95</td>\n",
       "    </tr>\n",
       "    <tr>\n",
       "      <th>3</th>\n",
       "      <td>meaneduc</td>\n",
       "      <td>5</td>\n",
       "      <td>0.05</td>\n",
       "    </tr>\n",
       "    <tr>\n",
       "      <th>4</th>\n",
       "      <td>SQBmeaned</td>\n",
       "      <td>5</td>\n",
       "      <td>0.05</td>\n",
       "    </tr>\n",
       "  </tbody>\n",
       "</table>\n",
       "</div>"
      ],
      "text/plain": [
       "     Columns  # Missing values      %\n",
       "0       v2a1              6860  71.78\n",
       "1      v18q1              7342  76.82\n",
       "2    rez_esc              7928  82.95\n",
       "3   meaneduc                 5   0.05\n",
       "4  SQBmeaned                 5   0.05"
      ]
     },
     "execution_count": 9,
     "metadata": {},
     "output_type": "execute_result"
    }
   ],
   "source": [
    "missing_cols_df = pd.DataFrame({'Columns':missing_cols,\n",
    "                                '# Missing values' :[train[x].isnull().sum() for x in missing_cols]})\n",
    "\n",
    "missing_cols_df['%'] = missing_cols_df['# Missing values'] / len(train) * 100\n",
    "missing_cols_df['%'] = np.round(missing_cols_df['%'],2)\n",
    "missing_cols_df"
   ]
  },
  {
   "cell_type": "markdown",
   "id": "02689b14",
   "metadata": {},
   "source": [
    "- For columns having more than 70% , we'll drop the column .\n",
    "- For 2 columns having only 5 missing values, we can impute it with appropriate method."
   ]
  },
  {
   "cell_type": "code",
   "execution_count": 10,
   "id": "2efdd3a2",
   "metadata": {},
   "outputs": [
    {
     "data": {
      "text/plain": [
       "(9557, 140)"
      ]
     },
     "execution_count": 10,
     "metadata": {},
     "output_type": "execute_result"
    }
   ],
   "source": [
    "train.drop(missing_cols[:3],axis=1,inplace=True)\n",
    "train.shape"
   ]
  },
  {
   "cell_type": "code",
   "execution_count": 11,
   "id": "ddc2c309",
   "metadata": {},
   "outputs": [
    {
     "data": {
      "text/plain": [
       "count    9552.000000\n",
       "mean        9.231523\n",
       "std         4.167694\n",
       "min         0.000000\n",
       "25%         6.000000\n",
       "50%         9.000000\n",
       "75%        11.600000\n",
       "max        37.000000\n",
       "Name: meaneduc, dtype: float64"
      ]
     },
     "execution_count": 11,
     "metadata": {},
     "output_type": "execute_result"
    }
   ],
   "source": [
    "train['meaneduc'].describe()"
   ]
  },
  {
   "cell_type": "markdown",
   "id": "656224af",
   "metadata": {},
   "source": [
    "- The mean is nearly equal to median.\n",
    "- We'll impute missing values with mean."
   ]
  },
  {
   "cell_type": "code",
   "execution_count": 12,
   "id": "dd064aca",
   "metadata": {},
   "outputs": [
    {
     "data": {
      "text/plain": [
       "0"
      ]
     },
     "execution_count": 12,
     "metadata": {},
     "output_type": "execute_result"
    }
   ],
   "source": [
    "train['meaneduc'] = train['meaneduc'].fillna(value=train.meaneduc.mean())\n",
    "train['meaneduc'].isnull().sum()"
   ]
  },
  {
   "cell_type": "code",
   "execution_count": 13,
   "id": "e832a054",
   "metadata": {},
   "outputs": [
    {
     "data": {
      "text/plain": [
       "count    9552.000000\n",
       "mean      102.588867\n",
       "std        93.516890\n",
       "min         0.000000\n",
       "25%        36.000000\n",
       "50%        81.000000\n",
       "75%       134.560010\n",
       "max      1369.000000\n",
       "Name: SQBmeaned, dtype: float64"
      ]
     },
     "execution_count": 13,
     "metadata": {},
     "output_type": "execute_result"
    }
   ],
   "source": [
    "train['SQBmeaned'].describe()"
   ]
  },
  {
   "cell_type": "markdown",
   "id": "de890e98",
   "metadata": {},
   "source": [
    "- The mean is greater than median ,suggesting right skewd distribution.\n",
    "- We'll impute missing values with median."
   ]
  },
  {
   "cell_type": "code",
   "execution_count": 14,
   "id": "7ee8abc3",
   "metadata": {},
   "outputs": [
    {
     "data": {
      "text/plain": [
       "0"
      ]
     },
     "execution_count": 14,
     "metadata": {},
     "output_type": "execute_result"
    }
   ],
   "source": [
    "train['SQBmeaned'] = train['SQBmeaned'].fillna(value=train.SQBmeaned.median())\n",
    "train['SQBmeaned'].isnull().sum()"
   ]
  },
  {
   "cell_type": "code",
   "execution_count": 15,
   "id": "ff620644",
   "metadata": {},
   "outputs": [
    {
     "data": {
      "text/plain": [
       "0"
      ]
     },
     "execution_count": 15,
     "metadata": {},
     "output_type": "execute_result"
    }
   ],
   "source": [
    "train.isnull().sum().sum()"
   ]
  },
  {
   "cell_type": "markdown",
   "id": "7ef4f055",
   "metadata": {},
   "source": [
    "- Now we have no missing values."
   ]
  },
  {
   "cell_type": "markdown",
   "id": "e04ed79b",
   "metadata": {},
   "source": [
    "#### Data Types Analysis"
   ]
  },
  {
   "cell_type": "code",
   "execution_count": 16,
   "id": "8f097ec0",
   "metadata": {},
   "outputs": [
    {
     "data": {
      "text/plain": [
       "array([dtype('O'), dtype('int64'), dtype('float64')], dtype=object)"
      ]
     },
     "execution_count": 16,
     "metadata": {},
     "output_type": "execute_result"
    }
   ],
   "source": [
    "train.dtypes.unique()"
   ]
  },
  {
   "cell_type": "code",
   "execution_count": 17,
   "id": "74a6addf",
   "metadata": {},
   "outputs": [
    {
     "data": {
      "text/html": [
       "<div>\n",
       "<style scoped>\n",
       "    .dataframe tbody tr th:only-of-type {\n",
       "        vertical-align: middle;\n",
       "    }\n",
       "\n",
       "    .dataframe tbody tr th {\n",
       "        vertical-align: top;\n",
       "    }\n",
       "\n",
       "    .dataframe thead th {\n",
       "        text-align: right;\n",
       "    }\n",
       "</style>\n",
       "<table border=\"1\" class=\"dataframe\">\n",
       "  <thead>\n",
       "    <tr style=\"text-align: right;\">\n",
       "      <th></th>\n",
       "      <th>Data Types</th>\n",
       "      <th># of Columns</th>\n",
       "    </tr>\n",
       "  </thead>\n",
       "  <tbody>\n",
       "    <tr>\n",
       "      <th>0</th>\n",
       "      <td>object</td>\n",
       "      <td>5</td>\n",
       "    </tr>\n",
       "    <tr>\n",
       "      <th>1</th>\n",
       "      <td>int64</td>\n",
       "      <td>130</td>\n",
       "    </tr>\n",
       "    <tr>\n",
       "      <th>2</th>\n",
       "      <td>float64</td>\n",
       "      <td>5</td>\n",
       "    </tr>\n",
       "  </tbody>\n",
       "</table>\n",
       "</div>"
      ],
      "text/plain": [
       "  Data Types  # of Columns\n",
       "0     object             5\n",
       "1      int64           130\n",
       "2    float64             5"
      ]
     },
     "execution_count": 17,
     "metadata": {},
     "output_type": "execute_result"
    }
   ],
   "source": [
    "dtypes_df = pd.DataFrame({'Data Types':train.dtypes.unique(),\n",
    "                          '# of Columns': [sum(train.dtypes==x) for x in train.dtypes.unique()]})\n",
    "dtypes_df"
   ]
  },
  {
   "cell_type": "markdown",
   "id": "d0f54387",
   "metadata": {},
   "source": [
    "- The object data types needs to represented as numbers for machine learning.\n",
    "- Let's analyse these columns first."
   ]
  },
  {
   "cell_type": "code",
   "execution_count": 18,
   "id": "e1b30159",
   "metadata": {},
   "outputs": [
    {
     "data": {
      "text/html": [
       "<div>\n",
       "<style scoped>\n",
       "    .dataframe tbody tr th:only-of-type {\n",
       "        vertical-align: middle;\n",
       "    }\n",
       "\n",
       "    .dataframe tbody tr th {\n",
       "        vertical-align: top;\n",
       "    }\n",
       "\n",
       "    .dataframe thead th {\n",
       "        text-align: right;\n",
       "    }\n",
       "</style>\n",
       "<table border=\"1\" class=\"dataframe\">\n",
       "  <thead>\n",
       "    <tr style=\"text-align: right;\">\n",
       "      <th></th>\n",
       "      <th>Id</th>\n",
       "      <th>idhogar</th>\n",
       "      <th>dependency</th>\n",
       "      <th>edjefe</th>\n",
       "      <th>edjefa</th>\n",
       "    </tr>\n",
       "  </thead>\n",
       "  <tbody>\n",
       "    <tr>\n",
       "      <th>count</th>\n",
       "      <td>9557</td>\n",
       "      <td>9557</td>\n",
       "      <td>9557</td>\n",
       "      <td>9557</td>\n",
       "      <td>9557</td>\n",
       "    </tr>\n",
       "    <tr>\n",
       "      <th>unique</th>\n",
       "      <td>9557</td>\n",
       "      <td>2988</td>\n",
       "      <td>31</td>\n",
       "      <td>22</td>\n",
       "      <td>22</td>\n",
       "    </tr>\n",
       "    <tr>\n",
       "      <th>top</th>\n",
       "      <td>ID_279628684</td>\n",
       "      <td>fd8a6d014</td>\n",
       "      <td>yes</td>\n",
       "      <td>no</td>\n",
       "      <td>no</td>\n",
       "    </tr>\n",
       "    <tr>\n",
       "      <th>freq</th>\n",
       "      <td>1</td>\n",
       "      <td>13</td>\n",
       "      <td>2192</td>\n",
       "      <td>3762</td>\n",
       "      <td>6230</td>\n",
       "    </tr>\n",
       "  </tbody>\n",
       "</table>\n",
       "</div>"
      ],
      "text/plain": [
       "                  Id    idhogar dependency edjefe edjefa\n",
       "count           9557       9557       9557   9557   9557\n",
       "unique          9557       2988         31     22     22\n",
       "top     ID_279628684  fd8a6d014        yes     no     no\n",
       "freq               1         13       2192   3762   6230"
      ]
     },
     "execution_count": 18,
     "metadata": {},
     "output_type": "execute_result"
    }
   ],
   "source": [
    "# String Columns.\n",
    "train.describe(include='object')"
   ]
  },
  {
   "cell_type": "markdown",
   "id": "9314241c",
   "metadata": {},
   "source": [
    "- Id is unique for every record,it'll add no value to our analysis.\n",
    "- We'll drop Id from datasets."
   ]
  },
  {
   "cell_type": "code",
   "execution_count": 19,
   "id": "a390b2fe",
   "metadata": {},
   "outputs": [
    {
     "data": {
      "text/plain": [
       "(9557, 139)"
      ]
     },
     "execution_count": 19,
     "metadata": {},
     "output_type": "execute_result"
    }
   ],
   "source": [
    "train.drop('Id',axis=1,inplace=True)\n",
    "train.shape"
   ]
  },
  {
   "cell_type": "code",
   "execution_count": 20,
   "id": "e75d70e4",
   "metadata": {},
   "outputs": [
    {
     "data": {
      "text/plain": [
       "0    21eb7fcc1\n",
       "1    0e5d7a658\n",
       "2    2c7317ea8\n",
       "3    2b58d945f\n",
       "4    2b58d945f\n",
       "Name: idhogar, dtype: object"
      ]
     },
     "execution_count": 20,
     "metadata": {},
     "output_type": "execute_result"
    }
   ],
   "source": [
    "train['idhogar'][:5]"
   ]
  },
  {
   "cell_type": "code",
   "execution_count": 21,
   "id": "4ed3ca8f",
   "metadata": {},
   "outputs": [
    {
     "data": {
      "text/plain": [
       "array(['2', '0', 'd', 'b', 'c', '6', 'e', '3', '1', '7', 'f', '9', 'a',\n",
       "       '5', '8', '4'], dtype=object)"
      ]
     },
     "execution_count": 21,
     "metadata": {},
     "output_type": "execute_result"
    }
   ],
   "source": [
    "train['idhogar'].apply(lambda x : x[0]).unique()"
   ]
  },
  {
   "cell_type": "markdown",
   "id": "6fe3af5f",
   "metadata": {},
   "source": [
    "- The values are all  of nominal categorical data type and 2988 unique values.\n",
    "- There doesn't seem to be any pattern.\n",
    "- we'll drop it."
   ]
  },
  {
   "cell_type": "code",
   "execution_count": 22,
   "id": "1482ce84",
   "metadata": {},
   "outputs": [
    {
     "data": {
      "text/plain": [
       "(9557, 138)"
      ]
     },
     "execution_count": 22,
     "metadata": {},
     "output_type": "execute_result"
    }
   ],
   "source": [
    "train.drop('idhogar',axis=1,inplace=True)\n",
    "train.shape"
   ]
  },
  {
   "cell_type": "code",
   "execution_count": 23,
   "id": "3a5e9164",
   "metadata": {},
   "outputs": [
    {
     "data": {
      "text/plain": [
       "array(['no', '8', 'yes', '3', '.5', '.25', '2', '.66666669', '.33333334',\n",
       "       '1.5', '.40000001', '.75', '1.25', '.2', '2.5', '1.2', '4',\n",
       "       '1.3333334', '2.25', '.22222222', '5', '.83333331', '.80000001',\n",
       "       '6', '3.5', '1.6666666', '.2857143', '1.75', '.71428573',\n",
       "       '.16666667', '.60000002'], dtype=object)"
      ]
     },
     "execution_count": 23,
     "metadata": {},
     "output_type": "execute_result"
    }
   ],
   "source": [
    "train['dependency'].unique()"
   ]
  },
  {
   "cell_type": "code",
   "execution_count": 24,
   "id": "bb2aba44",
   "metadata": {},
   "outputs": [
    {
     "data": {
      "text/plain": [
       "yes    22.936068\n",
       "no     18.279795\n",
       "Name: dependency, dtype: float64"
      ]
     },
     "execution_count": 24,
     "metadata": {},
     "output_type": "execute_result"
    }
   ],
   "source": [
    "train['dependency'].value_counts(normalize=True)[:2] * 100"
   ]
  },
  {
   "cell_type": "markdown",
   "id": "266a00ca",
   "metadata": {},
   "source": [
    "- Yes and no seems to inappropriate for dependency variable which is actually a ratio.\n",
    "- We'll simply map these string values.\n",
    "- For no, 0 seems to be apt.\n",
    "- For yes, we would simply assume 1.\n",
    "- The values are also in string format we need to convert them to numbers."
   ]
  },
  {
   "cell_type": "code",
   "execution_count": 25,
   "id": "0c671ed5",
   "metadata": {},
   "outputs": [],
   "source": [
    "def map_yes_no(val):\n",
    "    if val == 'yes':\n",
    "        return 1\n",
    "    elif val == 'no':\n",
    "        return 0\n",
    "    else :\n",
    "        return float(val)"
   ]
  },
  {
   "cell_type": "code",
   "execution_count": 26,
   "id": "0e8a73bb",
   "metadata": {},
   "outputs": [],
   "source": [
    "train['dependency'] = train['dependency'].apply(map_yes_no)"
   ]
  },
  {
   "cell_type": "code",
   "execution_count": 27,
   "id": "6374f9b1",
   "metadata": {},
   "outputs": [
    {
     "data": {
      "text/plain": [
       "array([0.        , 8.        , 1.        , 3.        , 0.5       ,\n",
       "       0.25      , 2.        , 0.66666669, 0.33333334, 1.5       ,\n",
       "       0.40000001, 0.75      , 1.25      , 0.2       , 2.5       ,\n",
       "       1.2       , 4.        , 1.3333334 , 2.25      , 0.22222222,\n",
       "       5.        , 0.83333331, 0.80000001, 6.        , 3.5       ,\n",
       "       1.6666666 , 0.2857143 , 1.75      , 0.71428573, 0.16666667,\n",
       "       0.60000002])"
      ]
     },
     "execution_count": 27,
     "metadata": {},
     "output_type": "execute_result"
    }
   ],
   "source": [
    "train['dependency'].unique()"
   ]
  },
  {
   "cell_type": "code",
   "execution_count": 28,
   "id": "2a71c837",
   "metadata": {},
   "outputs": [
    {
     "data": {
      "text/plain": [
       "(array(['10', '12', 'no', '11', '9', '15', '4', '6', '8', '17', '7', '16',\n",
       "        '14', '5', '21', '2', '19', 'yes', '3', '18', '13', '20'],\n",
       "       dtype=object),\n",
       " array(['no', '11', '4', '10', '9', '15', '7', '14', '13', '8', '17', '6',\n",
       "        '5', '3', '16', '19', 'yes', '21', '12', '2', '20', '18'],\n",
       "       dtype=object))"
      ]
     },
     "execution_count": 28,
     "metadata": {},
     "output_type": "execute_result"
    }
   ],
   "source": [
    "train['edjefe'].unique(),train['edjefa'].unique()"
   ]
  },
  {
   "cell_type": "markdown",
   "id": "1c4f581f",
   "metadata": {},
   "source": [
    "- Here also, there are yes and no.\n",
    "- We'll map these values same as before."
   ]
  },
  {
   "cell_type": "code",
   "execution_count": 29,
   "id": "f0a3c643",
   "metadata": {},
   "outputs": [],
   "source": [
    "train['edjefe'] = train['edjefe'].apply(map_yes_no)\n",
    "train['edjefa'] = train['edjefa'].apply(map_yes_no)"
   ]
  },
  {
   "cell_type": "code",
   "execution_count": 30,
   "id": "eb7cb160",
   "metadata": {},
   "outputs": [
    {
     "data": {
      "text/plain": [
       "array([10., 12.,  0., 11.,  9., 15.,  4.,  6.,  8., 17.,  7., 16., 14.,\n",
       "        5., 21.,  2., 19.,  1.,  3., 18., 13., 20.])"
      ]
     },
     "execution_count": 30,
     "metadata": {},
     "output_type": "execute_result"
    }
   ],
   "source": [
    "train['edjefe'].unique()"
   ]
  },
  {
   "cell_type": "code",
   "execution_count": 31,
   "id": "97af9ea6",
   "metadata": {},
   "outputs": [
    {
     "data": {
      "text/html": [
       "<div>\n",
       "<style scoped>\n",
       "    .dataframe tbody tr th:only-of-type {\n",
       "        vertical-align: middle;\n",
       "    }\n",
       "\n",
       "    .dataframe tbody tr th {\n",
       "        vertical-align: top;\n",
       "    }\n",
       "\n",
       "    .dataframe thead th {\n",
       "        text-align: right;\n",
       "    }\n",
       "</style>\n",
       "<table border=\"1\" class=\"dataframe\">\n",
       "  <thead>\n",
       "    <tr style=\"text-align: right;\">\n",
       "      <th></th>\n",
       "      <th>dependency</th>\n",
       "      <th>edjefe</th>\n",
       "      <th>edjefa</th>\n",
       "      <th>meaneduc</th>\n",
       "      <th>overcrowding</th>\n",
       "      <th>SQBovercrowding</th>\n",
       "      <th>SQBdependency</th>\n",
       "      <th>SQBmeaned</th>\n",
       "    </tr>\n",
       "  </thead>\n",
       "  <tbody>\n",
       "    <tr>\n",
       "      <th>count</th>\n",
       "      <td>9557.000000</td>\n",
       "      <td>9557.000000</td>\n",
       "      <td>9557.000000</td>\n",
       "      <td>9557.000000</td>\n",
       "      <td>9557.000000</td>\n",
       "      <td>9557.000000</td>\n",
       "      <td>9557.000000</td>\n",
       "      <td>9557.000000</td>\n",
       "    </tr>\n",
       "    <tr>\n",
       "      <th>mean</th>\n",
       "      <td>1.149550</td>\n",
       "      <td>5.096788</td>\n",
       "      <td>2.896830</td>\n",
       "      <td>9.231523</td>\n",
       "      <td>1.605380</td>\n",
       "      <td>3.249485</td>\n",
       "      <td>3.900409</td>\n",
       "      <td>102.577572</td>\n",
       "    </tr>\n",
       "    <tr>\n",
       "      <th>std</th>\n",
       "      <td>1.605993</td>\n",
       "      <td>5.246513</td>\n",
       "      <td>4.612056</td>\n",
       "      <td>4.166603</td>\n",
       "      <td>0.819946</td>\n",
       "      <td>4.129547</td>\n",
       "      <td>12.511831</td>\n",
       "      <td>93.493725</td>\n",
       "    </tr>\n",
       "    <tr>\n",
       "      <th>min</th>\n",
       "      <td>0.000000</td>\n",
       "      <td>0.000000</td>\n",
       "      <td>0.000000</td>\n",
       "      <td>0.000000</td>\n",
       "      <td>0.200000</td>\n",
       "      <td>0.040000</td>\n",
       "      <td>0.000000</td>\n",
       "      <td>0.000000</td>\n",
       "    </tr>\n",
       "    <tr>\n",
       "      <th>25%</th>\n",
       "      <td>0.333333</td>\n",
       "      <td>0.000000</td>\n",
       "      <td>0.000000</td>\n",
       "      <td>6.000000</td>\n",
       "      <td>1.000000</td>\n",
       "      <td>1.000000</td>\n",
       "      <td>0.111111</td>\n",
       "      <td>36.000000</td>\n",
       "    </tr>\n",
       "    <tr>\n",
       "      <th>50%</th>\n",
       "      <td>0.666667</td>\n",
       "      <td>6.000000</td>\n",
       "      <td>0.000000</td>\n",
       "      <td>9.000000</td>\n",
       "      <td>1.500000</td>\n",
       "      <td>2.250000</td>\n",
       "      <td>0.444444</td>\n",
       "      <td>81.000000</td>\n",
       "    </tr>\n",
       "    <tr>\n",
       "      <th>75%</th>\n",
       "      <td>1.333333</td>\n",
       "      <td>9.000000</td>\n",
       "      <td>6.000000</td>\n",
       "      <td>11.500000</td>\n",
       "      <td>2.000000</td>\n",
       "      <td>4.000000</td>\n",
       "      <td>1.777778</td>\n",
       "      <td>132.250000</td>\n",
       "    </tr>\n",
       "    <tr>\n",
       "      <th>max</th>\n",
       "      <td>8.000000</td>\n",
       "      <td>21.000000</td>\n",
       "      <td>21.000000</td>\n",
       "      <td>37.000000</td>\n",
       "      <td>6.000000</td>\n",
       "      <td>36.000000</td>\n",
       "      <td>64.000000</td>\n",
       "      <td>1369.000000</td>\n",
       "    </tr>\n",
       "  </tbody>\n",
       "</table>\n",
       "</div>"
      ],
      "text/plain": [
       "        dependency       edjefe       edjefa     meaneduc  overcrowding  \\\n",
       "count  9557.000000  9557.000000  9557.000000  9557.000000   9557.000000   \n",
       "mean      1.149550     5.096788     2.896830     9.231523      1.605380   \n",
       "std       1.605993     5.246513     4.612056     4.166603      0.819946   \n",
       "min       0.000000     0.000000     0.000000     0.000000      0.200000   \n",
       "25%       0.333333     0.000000     0.000000     6.000000      1.000000   \n",
       "50%       0.666667     6.000000     0.000000     9.000000      1.500000   \n",
       "75%       1.333333     9.000000     6.000000    11.500000      2.000000   \n",
       "max       8.000000    21.000000    21.000000    37.000000      6.000000   \n",
       "\n",
       "       SQBovercrowding  SQBdependency    SQBmeaned  \n",
       "count      9557.000000    9557.000000  9557.000000  \n",
       "mean          3.249485       3.900409   102.577572  \n",
       "std           4.129547      12.511831    93.493725  \n",
       "min           0.040000       0.000000     0.000000  \n",
       "25%           1.000000       0.111111    36.000000  \n",
       "50%           2.250000       0.444444    81.000000  \n",
       "75%           4.000000       1.777778   132.250000  \n",
       "max          36.000000      64.000000  1369.000000  "
      ]
     },
     "execution_count": 31,
     "metadata": {},
     "output_type": "execute_result"
    }
   ],
   "source": [
    "train.describe(include='float')"
   ]
  },
  {
   "cell_type": "code",
   "execution_count": 32,
   "id": "1bbb9c98",
   "metadata": {},
   "outputs": [
    {
     "data": {
      "text/plain": [
       "True     8119\n",
       "False    1438\n",
       "dtype: int64"
      ]
     },
     "execution_count": 32,
     "metadata": {},
     "output_type": "execute_result"
    }
   ],
   "source": [
    "(train['dependency'] ** 2 == train['SQBdependency']).value_counts()"
   ]
  },
  {
   "cell_type": "code",
   "execution_count": 33,
   "id": "89260b14",
   "metadata": {},
   "outputs": [
    {
     "data": {
      "text/plain": [
       "True     6615\n",
       "False    2942\n",
       "dtype: int64"
      ]
     },
     "execution_count": 33,
     "metadata": {},
     "output_type": "execute_result"
    }
   ],
   "source": [
    "(train['overcrowding'] ** 2 == train['SQBovercrowding']).value_counts()"
   ]
  },
  {
   "cell_type": "code",
   "execution_count": 34,
   "id": "da51e8a6",
   "metadata": {},
   "outputs": [
    {
     "data": {
      "text/plain": [
       "True     7737\n",
       "False    1820\n",
       "dtype: int64"
      ]
     },
     "execution_count": 34,
     "metadata": {},
     "output_type": "execute_result"
    }
   ],
   "source": [
    "(train['meaneduc'] ** 2 == train['SQBmeaned']).value_counts()"
   ]
  },
  {
   "cell_type": "markdown",
   "id": "cdd73b66",
   "metadata": {},
   "source": [
    "- We can see though from name and description it seems like some columns are squared but that is not true for every values.\n",
    "- we'll keep them both as of now."
   ]
  },
  {
   "cell_type": "code",
   "execution_count": 35,
   "id": "d1cd4f82",
   "metadata": {},
   "outputs": [
    {
     "data": {
      "image/png": "[encoded data removed]",
      "text/plain": [
       "<Figure size 864x432 with 2 Axes>"
      ]
     },
     "metadata": {},
     "output_type": "display_data"
    }
   ],
   "source": [
    "# Correlation Matrix of float variables.\n",
    "plt.figure(figsize=(12,6))\n",
    "sns.heatmap(train[train.describe(include='float').columns].corr(),cmap='bwr',annot=True)\n",
    "plt.title('Correlation Heatmap between float variables')\n",
    "plt.show()"
   ]
  },
  {
   "cell_type": "markdown",
   "id": "526b848a",
   "metadata": {},
   "source": [
    "- Except for edjefe and edjefa,all variables are strongly correlated.\n",
    "- We might consider removing them.\n",
    "- We'll do it in feature reduction."
   ]
  },
  {
   "cell_type": "code",
   "execution_count": 36,
   "id": "15872040",
   "metadata": {},
   "outputs": [
    {
     "data": {
      "text/html": [
       "<div>\n",
       "<style scoped>\n",
       "    .dataframe tbody tr th:only-of-type {\n",
       "        vertical-align: middle;\n",
       "    }\n",
       "\n",
       "    .dataframe tbody tr th {\n",
       "        vertical-align: top;\n",
       "    }\n",
       "\n",
       "    .dataframe thead th {\n",
       "        text-align: right;\n",
       "    }\n",
       "</style>\n",
       "<table border=\"1\" class=\"dataframe\">\n",
       "  <thead>\n",
       "    <tr style=\"text-align: right;\">\n",
       "      <th></th>\n",
       "      <th>hacdor</th>\n",
       "      <th>rooms</th>\n",
       "      <th>hacapo</th>\n",
       "      <th>v14a</th>\n",
       "      <th>refrig</th>\n",
       "      <th>v18q</th>\n",
       "      <th>r4h1</th>\n",
       "      <th>r4h2</th>\n",
       "      <th>r4h3</th>\n",
       "      <th>r4m1</th>\n",
       "      <th>...</th>\n",
       "      <th>area1</th>\n",
       "      <th>area2</th>\n",
       "      <th>age</th>\n",
       "      <th>SQBescolari</th>\n",
       "      <th>SQBage</th>\n",
       "      <th>SQBhogar_total</th>\n",
       "      <th>SQBedjefe</th>\n",
       "      <th>SQBhogar_nin</th>\n",
       "      <th>agesq</th>\n",
       "      <th>Target</th>\n",
       "    </tr>\n",
       "  </thead>\n",
       "  <tbody>\n",
       "    <tr>\n",
       "      <th>count</th>\n",
       "      <td>9557.000000</td>\n",
       "      <td>9557.000000</td>\n",
       "      <td>9557.000000</td>\n",
       "      <td>9557.000000</td>\n",
       "      <td>9557.000000</td>\n",
       "      <td>9557.000000</td>\n",
       "      <td>9557.000000</td>\n",
       "      <td>9557.000000</td>\n",
       "      <td>9557.000000</td>\n",
       "      <td>9557.000000</td>\n",
       "      <td>...</td>\n",
       "      <td>9557.000000</td>\n",
       "      <td>9557.000000</td>\n",
       "      <td>9557.000000</td>\n",
       "      <td>9557.000000</td>\n",
       "      <td>9557.000000</td>\n",
       "      <td>9557.000000</td>\n",
       "      <td>9557.000000</td>\n",
       "      <td>9557.000000</td>\n",
       "      <td>9557.000000</td>\n",
       "      <td>9557.000000</td>\n",
       "    </tr>\n",
       "    <tr>\n",
       "      <th>mean</th>\n",
       "      <td>0.038087</td>\n",
       "      <td>4.955530</td>\n",
       "      <td>0.023648</td>\n",
       "      <td>0.994768</td>\n",
       "      <td>0.957623</td>\n",
       "      <td>0.231767</td>\n",
       "      <td>0.385895</td>\n",
       "      <td>1.559171</td>\n",
       "      <td>1.945066</td>\n",
       "      <td>0.399184</td>\n",
       "      <td>...</td>\n",
       "      <td>0.714555</td>\n",
       "      <td>0.285445</td>\n",
       "      <td>34.303547</td>\n",
       "      <td>74.222769</td>\n",
       "      <td>1643.774302</td>\n",
       "      <td>19.132887</td>\n",
       "      <td>53.500262</td>\n",
       "      <td>3.844826</td>\n",
       "      <td>1643.774302</td>\n",
       "      <td>3.302292</td>\n",
       "    </tr>\n",
       "    <tr>\n",
       "      <th>std</th>\n",
       "      <td>0.191417</td>\n",
       "      <td>1.468381</td>\n",
       "      <td>0.151957</td>\n",
       "      <td>0.072145</td>\n",
       "      <td>0.201459</td>\n",
       "      <td>0.421983</td>\n",
       "      <td>0.680779</td>\n",
       "      <td>1.036574</td>\n",
       "      <td>1.188852</td>\n",
       "      <td>0.692460</td>\n",
       "      <td>...</td>\n",
       "      <td>0.451650</td>\n",
       "      <td>0.451650</td>\n",
       "      <td>21.612261</td>\n",
       "      <td>76.777549</td>\n",
       "      <td>1741.197050</td>\n",
       "      <td>18.751395</td>\n",
       "      <td>78.445804</td>\n",
       "      <td>6.946296</td>\n",
       "      <td>1741.197050</td>\n",
       "      <td>1.009565</td>\n",
       "    </tr>\n",
       "    <tr>\n",
       "      <th>min</th>\n",
       "      <td>0.000000</td>\n",
       "      <td>1.000000</td>\n",
       "      <td>0.000000</td>\n",
       "      <td>0.000000</td>\n",
       "      <td>0.000000</td>\n",
       "      <td>0.000000</td>\n",
       "      <td>0.000000</td>\n",
       "      <td>0.000000</td>\n",
       "      <td>0.000000</td>\n",
       "      <td>0.000000</td>\n",
       "      <td>...</td>\n",
       "      <td>0.000000</td>\n",
       "      <td>0.000000</td>\n",
       "      <td>0.000000</td>\n",
       "      <td>0.000000</td>\n",
       "      <td>0.000000</td>\n",
       "      <td>1.000000</td>\n",
       "      <td>0.000000</td>\n",
       "      <td>0.000000</td>\n",
       "      <td>0.000000</td>\n",
       "      <td>1.000000</td>\n",
       "    </tr>\n",
       "    <tr>\n",
       "      <th>25%</th>\n",
       "      <td>0.000000</td>\n",
       "      <td>4.000000</td>\n",
       "      <td>0.000000</td>\n",
       "      <td>1.000000</td>\n",
       "      <td>1.000000</td>\n",
       "      <td>0.000000</td>\n",
       "      <td>0.000000</td>\n",
       "      <td>1.000000</td>\n",
       "      <td>1.000000</td>\n",
       "      <td>0.000000</td>\n",
       "      <td>...</td>\n",
       "      <td>0.000000</td>\n",
       "      <td>0.000000</td>\n",
       "      <td>17.000000</td>\n",
       "      <td>16.000000</td>\n",
       "      <td>289.000000</td>\n",
       "      <td>9.000000</td>\n",
       "      <td>0.000000</td>\n",
       "      <td>0.000000</td>\n",
       "      <td>289.000000</td>\n",
       "      <td>3.000000</td>\n",
       "    </tr>\n",
       "    <tr>\n",
       "      <th>50%</th>\n",
       "      <td>0.000000</td>\n",
       "      <td>5.000000</td>\n",
       "      <td>0.000000</td>\n",
       "      <td>1.000000</td>\n",
       "      <td>1.000000</td>\n",
       "      <td>0.000000</td>\n",
       "      <td>0.000000</td>\n",
       "      <td>1.000000</td>\n",
       "      <td>2.000000</td>\n",
       "      <td>0.000000</td>\n",
       "      <td>...</td>\n",
       "      <td>1.000000</td>\n",
       "      <td>0.000000</td>\n",
       "      <td>31.000000</td>\n",
       "      <td>36.000000</td>\n",
       "      <td>961.000000</td>\n",
       "      <td>16.000000</td>\n",
       "      <td>36.000000</td>\n",
       "      <td>1.000000</td>\n",
       "      <td>961.000000</td>\n",
       "      <td>4.000000</td>\n",
       "    </tr>\n",
       "    <tr>\n",
       "      <th>75%</th>\n",
       "      <td>0.000000</td>\n",
       "      <td>6.000000</td>\n",
       "      <td>0.000000</td>\n",
       "      <td>1.000000</td>\n",
       "      <td>1.000000</td>\n",
       "      <td>0.000000</td>\n",
       "      <td>1.000000</td>\n",
       "      <td>2.000000</td>\n",
       "      <td>3.000000</td>\n",
       "      <td>1.000000</td>\n",
       "      <td>...</td>\n",
       "      <td>1.000000</td>\n",
       "      <td>1.000000</td>\n",
       "      <td>51.000000</td>\n",
       "      <td>121.000000</td>\n",
       "      <td>2601.000000</td>\n",
       "      <td>25.000000</td>\n",
       "      <td>81.000000</td>\n",
       "      <td>4.000000</td>\n",
       "      <td>2601.000000</td>\n",
       "      <td>4.000000</td>\n",
       "    </tr>\n",
       "    <tr>\n",
       "      <th>max</th>\n",
       "      <td>1.000000</td>\n",
       "      <td>11.000000</td>\n",
       "      <td>1.000000</td>\n",
       "      <td>1.000000</td>\n",
       "      <td>1.000000</td>\n",
       "      <td>1.000000</td>\n",
       "      <td>5.000000</td>\n",
       "      <td>8.000000</td>\n",
       "      <td>8.000000</td>\n",
       "      <td>6.000000</td>\n",
       "      <td>...</td>\n",
       "      <td>1.000000</td>\n",
       "      <td>1.000000</td>\n",
       "      <td>97.000000</td>\n",
       "      <td>441.000000</td>\n",
       "      <td>9409.000000</td>\n",
       "      <td>169.000000</td>\n",
       "      <td>441.000000</td>\n",
       "      <td>81.000000</td>\n",
       "      <td>9409.000000</td>\n",
       "      <td>4.000000</td>\n",
       "    </tr>\n",
       "  </tbody>\n",
       "</table>\n",
       "<p>8 rows × 130 columns</p>\n",
       "</div>"
      ],
      "text/plain": [
       "            hacdor        rooms       hacapo         v14a       refrig  \\\n",
       "count  9557.000000  9557.000000  9557.000000  9557.000000  9557.000000   \n",
       "mean      0.038087     4.955530     0.023648     0.994768     0.957623   \n",
       "std       0.191417     1.468381     0.151957     0.072145     0.201459   \n",
       "min       0.000000     1.000000     0.000000     0.000000     0.000000   \n",
       "25%       0.000000     4.000000     0.000000     1.000000     1.000000   \n",
       "50%       0.000000     5.000000     0.000000     1.000000     1.000000   \n",
       "75%       0.000000     6.000000     0.000000     1.000000     1.000000   \n",
       "max       1.000000    11.000000     1.000000     1.000000     1.000000   \n",
       "\n",
       "              v18q         r4h1         r4h2         r4h3         r4m1  ...  \\\n",
       "count  9557.000000  9557.000000  9557.000000  9557.000000  9557.000000  ...   \n",
       "mean      0.231767     0.385895     1.559171     1.945066     0.399184  ...   \n",
       "std       0.421983     0.680779     1.036574     1.188852     0.692460  ...   \n",
       "min       0.000000     0.000000     0.000000     0.000000     0.000000  ...   \n",
       "25%       0.000000     0.000000     1.000000     1.000000     0.000000  ...   \n",
       "50%       0.000000     0.000000     1.000000     2.000000     0.000000  ...   \n",
       "75%       0.000000     1.000000     2.000000     3.000000     1.000000  ...   \n",
       "max       1.000000     5.000000     8.000000     8.000000     6.000000  ...   \n",
       "\n",
       "             area1        area2          age  SQBescolari       SQBage  \\\n",
       "count  9557.000000  9557.000000  9557.000000  9557.000000  9557.000000   \n",
       "mean      0.714555     0.285445    34.303547    74.222769  1643.774302   \n",
       "std       0.451650     0.451650    21.612261    76.777549  1741.197050   \n",
       "min       0.000000     0.000000     0.000000     0.000000     0.000000   \n",
       "25%       0.000000     0.000000    17.000000    16.000000   289.000000   \n",
       "50%       1.000000     0.000000    31.000000    36.000000   961.000000   \n",
       "75%       1.000000     1.000000    51.000000   121.000000  2601.000000   \n",
       "max       1.000000     1.000000    97.000000   441.000000  9409.000000   \n",
       "\n",
       "       SQBhogar_total    SQBedjefe  SQBhogar_nin        agesq       Target  \n",
       "count     9557.000000  9557.000000   9557.000000  9557.000000  9557.000000  \n",
       "mean        19.132887    53.500262      3.844826  1643.774302     3.302292  \n",
       "std         18.751395    78.445804      6.946296  1741.197050     1.009565  \n",
       "min          1.000000     0.000000      0.000000     0.000000     1.000000  \n",
       "25%          9.000000     0.000000      0.000000   289.000000     3.000000  \n",
       "50%         16.000000    36.000000      1.000000   961.000000     4.000000  \n",
       "75%         25.000000    81.000000      4.000000  2601.000000     4.000000  \n",
       "max        169.000000   441.000000     81.000000  9409.000000     4.000000  \n",
       "\n",
       "[8 rows x 130 columns]"
      ]
     },
     "execution_count": 36,
     "metadata": {},
     "output_type": "execute_result"
    }
   ],
   "source": [
    "train.describe(include='int')"
   ]
  },
  {
   "cell_type": "markdown",
   "id": "b884913b",
   "metadata": {},
   "source": [
    "- It's very hard to analyse from above."
   ]
  },
  {
   "cell_type": "code",
   "execution_count": 37,
   "id": "f29d6753",
   "metadata": {},
   "outputs": [
    {
     "name": "stdout",
     "output_type": "stream",
     "text": [
      "No of independent variables having only one value : 1\n",
      "No of independent variables having binary values : 101\n",
      "No of independent variables having multiple values : 35\n"
     ]
    }
   ],
   "source": [
    "# Independent variables.\n",
    "single_value_data = []\n",
    "binary_data = []\n",
    "multi_value_data = []\n",
    "for i in train.drop('Target',axis=1):\n",
    "    if train[i].nunique() == 1:\n",
    "        single_value_data.append(i)\n",
    "    elif train[i].nunique() == 2 :\n",
    "        binary_data.append(i)  \n",
    "    else:\n",
    "        multi_value_data.append(i)\n",
    "print('No of independent variables having only one value :'  ,len(single_value_data)) \n",
    "print('No of independent variables having binary values :',len(binary_data))\n",
    "print('No of independent variables having multiple values :',len(multi_value_data))"
   ]
  },
  {
   "cell_type": "markdown",
   "id": "6a459be2",
   "metadata": {},
   "source": [
    "- there is one variable which has only single value and hence no variation.\n",
    "- Most of the data comprimises of binary data that is about 101 features."
   ]
  },
  {
   "cell_type": "code",
   "execution_count": 38,
   "id": "f0c853f2",
   "metadata": {},
   "outputs": [
    {
     "name": "stdout",
     "output_type": "stream",
     "text": [
      "for rooms,unique values = 11\n",
      "for r4h1,unique values = 6\n",
      "for r4h2,unique values = 9\n",
      "for r4h3,unique values = 9\n",
      "for r4m1,unique values = 6\n",
      "for r4m2,unique values = 7\n",
      "for r4m3,unique values = 9\n",
      "for r4t1,unique values = 7\n",
      "for r4t2,unique values = 11\n",
      "for r4t3,unique values = 13\n",
      "for tamhog,unique values = 13\n",
      "for tamviv,unique values = 14\n",
      "for escolari,unique values = 22\n",
      "for hhsize,unique values = 13\n",
      "for hogar_nin,unique values = 10\n",
      "for hogar_adul,unique values = 10\n",
      "for hogar_mayor,unique values = 4\n",
      "for hogar_total,unique values = 13\n",
      "for dependency,unique values = 31\n",
      "for edjefe,unique values = 22\n",
      "for edjefa,unique values = 22\n",
      "for meaneduc,unique values = 156\n",
      "for bedrooms,unique values = 7\n",
      "for overcrowding,unique values = 38\n",
      "for qmobilephone,unique values = 11\n",
      "for age,unique values = 97\n",
      "for SQBescolari,unique values = 22\n",
      "for SQBage,unique values = 97\n",
      "for SQBhogar_total,unique values = 13\n",
      "for SQBedjefe,unique values = 22\n",
      "for SQBhogar_nin,unique values = 10\n",
      "for SQBovercrowding,unique values = 38\n",
      "for SQBdependency,unique values = 31\n",
      "for SQBmeaned,unique values = 155\n",
      "for agesq,unique values = 97\n"
     ]
    }
   ],
   "source": [
    "# For multiple unique values.\n",
    "for i in multi_value_data:\n",
    "    print(f'for {i},unique values = {train[i].nunique()}')"
   ]
  },
  {
   "cell_type": "markdown",
   "id": "2a2abe20",
   "metadata": {},
   "source": [
    "- From above, it is clear that none of features have continous data."
   ]
  },
  {
   "cell_type": "markdown",
   "id": "4530f02c",
   "metadata": {},
   "source": [
    "#### Checking if there is a house without a family head."
   ]
  },
  {
   "cell_type": "code",
   "execution_count": 39,
   "id": "47d37862",
   "metadata": {},
   "outputs": [
    {
     "data": {
      "text/plain": [
       "0    6584\n",
       "1    2973\n",
       "Name: parentesco1, dtype: int64"
      ]
     },
     "execution_count": 39,
     "metadata": {},
     "output_type": "execute_result"
    }
   ],
   "source": [
    "train['parentesco1'].value_counts()"
   ]
  },
  {
   "cell_type": "code",
   "execution_count": 40,
   "id": "5a28e5a5",
   "metadata": {},
   "outputs": [
    {
     "data": {
      "text/plain": [
       "0    0.688919\n",
       "1    0.311081\n",
       "Name: parentesco1, dtype: float64"
      ]
     },
     "execution_count": 40,
     "metadata": {},
     "output_type": "execute_result"
    }
   ],
   "source": [
    "train['parentesco1'].value_counts(normalize=True)"
   ]
  },
  {
   "cell_type": "code",
   "execution_count": 41,
   "id": "14715c40",
   "metadata": {},
   "outputs": [
    {
     "data": {
      "text/plain": [
       "Target  parentesco1\n",
       "1       0               533\n",
       "        1               222\n",
       "2       0              1155\n",
       "        1               442\n",
       "3       0               854\n",
       "        1               355\n",
       "4       0              4042\n",
       "        1              1954\n",
       "Name: parentesco1, dtype: int64"
      ]
     },
     "execution_count": 41,
     "metadata": {},
     "output_type": "execute_result"
    }
   ],
   "source": [
    "train.groupby('Target')['parentesco1'].value_counts()"
   ]
  },
  {
   "cell_type": "markdown",
   "id": "f8968894",
   "metadata": {},
   "source": [
    "- There are about 31% of house without a family head.\n",
    "- Majority of them belong to class 4."
   ]
  },
  {
   "cell_type": "markdown",
   "id": "b863b5eb",
   "metadata": {},
   "source": [
    "#### Checking whether all members of the house have the same poverty level."
   ]
  },
  {
   "cell_type": "code",
   "execution_count": 42,
   "id": "fba84ba5",
   "metadata": {},
   "outputs": [
    {
     "data": {
      "text/plain": [
       "True     2903\n",
       "False      85\n",
       "Name: Target, dtype: int64"
      ]
     },
     "execution_count": 42,
     "metadata": {},
     "output_type": "execute_result"
    }
   ],
   "source": [
    "train_raw.groupby('idhogar')['Target'].apply(lambda x: x.nunique() == 1).value_counts()"
   ]
  },
  {
   "cell_type": "markdown",
   "id": "7833722d",
   "metadata": {},
   "source": [
    "- There are 85 households where members of the house doesn't have the same poverty level."
   ]
  },
  {
   "cell_type": "markdown",
   "id": "35ddf9f0",
   "metadata": {},
   "source": [
    "#### Target Variable Analysis"
   ]
  },
  {
   "cell_type": "code",
   "execution_count": 43,
   "id": "7436e438",
   "metadata": {},
   "outputs": [
    {
     "data": {
      "text/plain": [
       "array([4, 2, 3, 1], dtype=int64)"
      ]
     },
     "execution_count": 43,
     "metadata": {},
     "output_type": "execute_result"
    }
   ],
   "source": [
    "train['Target'].unique()"
   ]
  },
  {
   "cell_type": "markdown",
   "id": "7a61abd5",
   "metadata": {},
   "source": [
    "- There are 4 unique levels making it a classification problem."
   ]
  },
  {
   "cell_type": "code",
   "execution_count": 44,
   "id": "cfaf8bd6",
   "metadata": {},
   "outputs": [
    {
     "data": {
      "image/png": "[encoded data removed]",
      "text/plain": [
       "<Figure size 720x432 with 1 Axes>"
      ]
     },
     "metadata": {},
     "output_type": "display_data"
    }
   ],
   "source": [
    "plt.figure(figsize=(10,6))\n",
    "sns.countplot(x='Target',data=train)\n",
    "plt.title('Countplot of Target Variable',size=15)\n",
    "plt.show()"
   ]
  },
  {
   "cell_type": "code",
   "execution_count": 45,
   "id": "43c94f42",
   "metadata": {},
   "outputs": [
    {
     "data": {
      "text/plain": [
       "4    0.627394\n",
       "2    0.167103\n",
       "3    0.126504\n",
       "1    0.079000\n",
       "Name: Target, dtype: float64"
      ]
     },
     "execution_count": 45,
     "metadata": {},
     "output_type": "execute_result"
    }
   ],
   "source": [
    "train['Target'].value_counts(normalize=True)"
   ]
  },
  {
   "cell_type": "markdown",
   "id": "4814cd0e",
   "metadata": {},
   "source": [
    "- The data is not balanced.\n",
    "- 62% of data belongs to level 4.\n",
    "- just 8% of data belongs to level 1."
   ]
  },
  {
   "cell_type": "markdown",
   "id": "9c527fe7",
   "metadata": {},
   "source": [
    "#### Fetaure Reduction"
   ]
  },
  {
   "cell_type": "code",
   "execution_count": 46,
   "id": "3ad6df76",
   "metadata": {},
   "outputs": [
    {
     "data": {
      "text/plain": [
       "elimbasu5    0.0\n",
       "dtype: float64"
      ]
     },
     "execution_count": 46,
     "metadata": {},
     "output_type": "execute_result"
    }
   ],
   "source": [
    "train[single_value_data].var()"
   ]
  },
  {
   "cell_type": "code",
   "execution_count": 47,
   "id": "45b9c3e3",
   "metadata": {},
   "outputs": [
    {
     "data": {
      "text/plain": [
       "array([0], dtype=int64)"
      ]
     },
     "execution_count": 47,
     "metadata": {},
     "output_type": "execute_result"
    }
   ],
   "source": [
    "train['elimbasu5'].unique()"
   ]
  },
  {
   "cell_type": "markdown",
   "id": "cc410b50",
   "metadata": {},
   "source": [
    "- There is only one value .\n",
    "- This isn't going to add any value to our analysis, we'll drop it."
   ]
  },
  {
   "cell_type": "code",
   "execution_count": 48,
   "id": "ec1ce238",
   "metadata": {},
   "outputs": [
    {
     "data": {
      "text/plain": [
       "(9557, 137)"
      ]
     },
     "execution_count": 48,
     "metadata": {},
     "output_type": "execute_result"
    }
   ],
   "source": [
    "train.drop('elimbasu5',axis=1,inplace=True)\n",
    "train.shape"
   ]
  },
  {
   "cell_type": "code",
   "execution_count": 49,
   "id": "186ae06e",
   "metadata": {},
   "outputs": [
    {
     "data": {
      "text/plain": [
       "(9557, 136)"
      ]
     },
     "execution_count": 49,
     "metadata": {},
     "output_type": "execute_result"
    }
   ],
   "source": [
    "features = train.drop('Target',axis=1)\n",
    "target = train['Target']\n",
    "features.shape"
   ]
  },
  {
   "cell_type": "markdown",
   "id": "b8aa69d5",
   "metadata": {},
   "source": [
    "- There are now 136 features (excluding Target column).\n",
    "- Let's have a look at perfectly correlated variables."
   ]
  },
  {
   "cell_type": "code",
   "execution_count": 50,
   "id": "c9247a29",
   "metadata": {},
   "outputs": [
    {
     "data": {
      "text/html": [
       "<div>\n",
       "<style scoped>\n",
       "    .dataframe tbody tr th:only-of-type {\n",
       "        vertical-align: middle;\n",
       "    }\n",
       "\n",
       "    .dataframe tbody tr th {\n",
       "        vertical-align: top;\n",
       "    }\n",
       "\n",
       "    .dataframe thead th {\n",
       "        text-align: right;\n",
       "    }\n",
       "</style>\n",
       "<table border=\"1\" class=\"dataframe\">\n",
       "  <thead>\n",
       "    <tr style=\"text-align: right;\">\n",
       "      <th></th>\n",
       "      <th>hacdor</th>\n",
       "      <th>rooms</th>\n",
       "      <th>hacapo</th>\n",
       "      <th>v14a</th>\n",
       "      <th>refrig</th>\n",
       "      <th>v18q</th>\n",
       "      <th>r4h1</th>\n",
       "      <th>r4h2</th>\n",
       "      <th>r4h3</th>\n",
       "      <th>r4m1</th>\n",
       "      <th>...</th>\n",
       "      <th>age</th>\n",
       "      <th>SQBescolari</th>\n",
       "      <th>SQBage</th>\n",
       "      <th>SQBhogar_total</th>\n",
       "      <th>SQBedjefe</th>\n",
       "      <th>SQBhogar_nin</th>\n",
       "      <th>SQBovercrowding</th>\n",
       "      <th>SQBdependency</th>\n",
       "      <th>SQBmeaned</th>\n",
       "      <th>agesq</th>\n",
       "    </tr>\n",
       "  </thead>\n",
       "  <tbody>\n",
       "    <tr>\n",
       "      <th>hacdor</th>\n",
       "      <td>NaN</td>\n",
       "      <td>-0.233369</td>\n",
       "      <td>0.652594</td>\n",
       "      <td>-0.175011</td>\n",
       "      <td>-0.101965</td>\n",
       "      <td>-0.084680</td>\n",
       "      <td>0.232508</td>\n",
       "      <td>0.059313</td>\n",
       "      <td>0.184857</td>\n",
       "      <td>0.268978</td>\n",
       "      <td>...</td>\n",
       "      <td>-0.118168</td>\n",
       "      <td>-0.109862</td>\n",
       "      <td>-0.102725</td>\n",
       "      <td>0.350546</td>\n",
       "      <td>-0.082229</td>\n",
       "      <td>0.388043</td>\n",
       "      <td>0.794699</td>\n",
       "      <td>0.005278</td>\n",
       "      <td>-0.099127</td>\n",
       "      <td>-0.102725</td>\n",
       "    </tr>\n",
       "    <tr>\n",
       "      <th>rooms</th>\n",
       "      <td>NaN</td>\n",
       "      <td>NaN</td>\n",
       "      <td>-0.213368</td>\n",
       "      <td>0.129183</td>\n",
       "      <td>0.130531</td>\n",
       "      <td>0.254256</td>\n",
       "      <td>-0.066578</td>\n",
       "      <td>0.267627</td>\n",
       "      <td>0.195222</td>\n",
       "      <td>-0.032558</td>\n",
       "      <td>...</td>\n",
       "      <td>0.077046</td>\n",
       "      <td>0.233679</td>\n",
       "      <td>0.068288</td>\n",
       "      <td>0.221595</td>\n",
       "      <td>0.198890</td>\n",
       "      <td>0.007952</td>\n",
       "      <td>-0.355526</td>\n",
       "      <td>-0.027575</td>\n",
       "      <td>0.249956</td>\n",
       "      <td>0.068288</td>\n",
       "    </tr>\n",
       "    <tr>\n",
       "      <th>hacapo</th>\n",
       "      <td>NaN</td>\n",
       "      <td>NaN</td>\n",
       "      <td>NaN</td>\n",
       "      <td>-0.150986</td>\n",
       "      <td>-0.124506</td>\n",
       "      <td>-0.067529</td>\n",
       "      <td>0.226378</td>\n",
       "      <td>0.126645</td>\n",
       "      <td>0.240056</td>\n",
       "      <td>0.241452</td>\n",
       "      <td>...</td>\n",
       "      <td>-0.087773</td>\n",
       "      <td>-0.092703</td>\n",
       "      <td>-0.075528</td>\n",
       "      <td>0.373720</td>\n",
       "      <td>-0.071170</td>\n",
       "      <td>0.367025</td>\n",
       "      <td>0.640096</td>\n",
       "      <td>0.014411</td>\n",
       "      <td>-0.103303</td>\n",
       "      <td>-0.075528</td>\n",
       "    </tr>\n",
       "    <tr>\n",
       "      <th>v14a</th>\n",
       "      <td>NaN</td>\n",
       "      <td>NaN</td>\n",
       "      <td>NaN</td>\n",
       "      <td>NaN</td>\n",
       "      <td>0.143143</td>\n",
       "      <td>0.036396</td>\n",
       "      <td>-0.054769</td>\n",
       "      <td>0.018133</td>\n",
       "      <td>-0.015552</td>\n",
       "      <td>-0.006370</td>\n",
       "      <td>...</td>\n",
       "      <td>0.027193</td>\n",
       "      <td>0.036483</td>\n",
       "      <td>0.023831</td>\n",
       "      <td>0.009100</td>\n",
       "      <td>0.018897</td>\n",
       "      <td>-0.015193</td>\n",
       "      <td>-0.174969</td>\n",
       "      <td>0.005712</td>\n",
       "      <td>0.034702</td>\n",
       "      <td>0.023831</td>\n",
       "    </tr>\n",
       "    <tr>\n",
       "      <th>refrig</th>\n",
       "      <td>NaN</td>\n",
       "      <td>NaN</td>\n",
       "      <td>NaN</td>\n",
       "      <td>NaN</td>\n",
       "      <td>NaN</td>\n",
       "      <td>0.086002</td>\n",
       "      <td>-0.047087</td>\n",
       "      <td>-0.022819</td>\n",
       "      <td>-0.046860</td>\n",
       "      <td>-0.023502</td>\n",
       "      <td>...</td>\n",
       "      <td>0.029801</td>\n",
       "      <td>0.097128</td>\n",
       "      <td>0.025846</td>\n",
       "      <td>-0.052195</td>\n",
       "      <td>0.082159</td>\n",
       "      <td>-0.108718</td>\n",
       "      <td>-0.123054</td>\n",
       "      <td>-0.034080</td>\n",
       "      <td>0.117378</td>\n",
       "      <td>0.025846</td>\n",
       "    </tr>\n",
       "    <tr>\n",
       "      <th>...</th>\n",
       "      <td>...</td>\n",
       "      <td>...</td>\n",
       "      <td>...</td>\n",
       "      <td>...</td>\n",
       "      <td>...</td>\n",
       "      <td>...</td>\n",
       "      <td>...</td>\n",
       "      <td>...</td>\n",
       "      <td>...</td>\n",
       "      <td>...</td>\n",
       "      <td>...</td>\n",
       "      <td>...</td>\n",
       "      <td>...</td>\n",
       "      <td>...</td>\n",
       "      <td>...</td>\n",
       "      <td>...</td>\n",
       "      <td>...</td>\n",
       "      <td>...</td>\n",
       "      <td>...</td>\n",
       "      <td>...</td>\n",
       "      <td>...</td>\n",
       "    </tr>\n",
       "    <tr>\n",
       "      <th>SQBhogar_nin</th>\n",
       "      <td>NaN</td>\n",
       "      <td>NaN</td>\n",
       "      <td>NaN</td>\n",
       "      <td>NaN</td>\n",
       "      <td>NaN</td>\n",
       "      <td>NaN</td>\n",
       "      <td>NaN</td>\n",
       "      <td>NaN</td>\n",
       "      <td>NaN</td>\n",
       "      <td>NaN</td>\n",
       "      <td>...</td>\n",
       "      <td>NaN</td>\n",
       "      <td>NaN</td>\n",
       "      <td>NaN</td>\n",
       "      <td>NaN</td>\n",
       "      <td>NaN</td>\n",
       "      <td>NaN</td>\n",
       "      <td>0.477876</td>\n",
       "      <td>0.049113</td>\n",
       "      <td>-0.009583</td>\n",
       "      <td>-0.278921</td>\n",
       "    </tr>\n",
       "    <tr>\n",
       "      <th>SQBovercrowding</th>\n",
       "      <td>NaN</td>\n",
       "      <td>NaN</td>\n",
       "      <td>NaN</td>\n",
       "      <td>NaN</td>\n",
       "      <td>NaN</td>\n",
       "      <td>NaN</td>\n",
       "      <td>NaN</td>\n",
       "      <td>NaN</td>\n",
       "      <td>NaN</td>\n",
       "      <td>NaN</td>\n",
       "      <td>...</td>\n",
       "      <td>NaN</td>\n",
       "      <td>NaN</td>\n",
       "      <td>NaN</td>\n",
       "      <td>NaN</td>\n",
       "      <td>NaN</td>\n",
       "      <td>NaN</td>\n",
       "      <td>NaN</td>\n",
       "      <td>-0.049525</td>\n",
       "      <td>-0.150949</td>\n",
       "      <td>-0.218349</td>\n",
       "    </tr>\n",
       "    <tr>\n",
       "      <th>SQBdependency</th>\n",
       "      <td>NaN</td>\n",
       "      <td>NaN</td>\n",
       "      <td>NaN</td>\n",
       "      <td>NaN</td>\n",
       "      <td>NaN</td>\n",
       "      <td>NaN</td>\n",
       "      <td>NaN</td>\n",
       "      <td>NaN</td>\n",
       "      <td>NaN</td>\n",
       "      <td>NaN</td>\n",
       "      <td>...</td>\n",
       "      <td>NaN</td>\n",
       "      <td>NaN</td>\n",
       "      <td>NaN</td>\n",
       "      <td>NaN</td>\n",
       "      <td>NaN</td>\n",
       "      <td>NaN</td>\n",
       "      <td>NaN</td>\n",
       "      <td>NaN</td>\n",
       "      <td>-0.065314</td>\n",
       "      <td>0.395814</td>\n",
       "    </tr>\n",
       "    <tr>\n",
       "      <th>SQBmeaned</th>\n",
       "      <td>NaN</td>\n",
       "      <td>NaN</td>\n",
       "      <td>NaN</td>\n",
       "      <td>NaN</td>\n",
       "      <td>NaN</td>\n",
       "      <td>NaN</td>\n",
       "      <td>NaN</td>\n",
       "      <td>NaN</td>\n",
       "      <td>NaN</td>\n",
       "      <td>NaN</td>\n",
       "      <td>...</td>\n",
       "      <td>NaN</td>\n",
       "      <td>NaN</td>\n",
       "      <td>NaN</td>\n",
       "      <td>NaN</td>\n",
       "      <td>NaN</td>\n",
       "      <td>NaN</td>\n",
       "      <td>NaN</td>\n",
       "      <td>NaN</td>\n",
       "      <td>NaN</td>\n",
       "      <td>-0.112277</td>\n",
       "    </tr>\n",
       "    <tr>\n",
       "      <th>agesq</th>\n",
       "      <td>NaN</td>\n",
       "      <td>NaN</td>\n",
       "      <td>NaN</td>\n",
       "      <td>NaN</td>\n",
       "      <td>NaN</td>\n",
       "      <td>NaN</td>\n",
       "      <td>NaN</td>\n",
       "      <td>NaN</td>\n",
       "      <td>NaN</td>\n",
       "      <td>NaN</td>\n",
       "      <td>...</td>\n",
       "      <td>NaN</td>\n",
       "      <td>NaN</td>\n",
       "      <td>NaN</td>\n",
       "      <td>NaN</td>\n",
       "      <td>NaN</td>\n",
       "      <td>NaN</td>\n",
       "      <td>NaN</td>\n",
       "      <td>NaN</td>\n",
       "      <td>NaN</td>\n",
       "      <td>NaN</td>\n",
       "    </tr>\n",
       "  </tbody>\n",
       "</table>\n",
       "<p>136 rows × 136 columns</p>\n",
       "</div>"
      ],
      "text/plain": [
       "                 hacdor     rooms    hacapo      v14a    refrig      v18q  \\\n",
       "hacdor              NaN -0.233369  0.652594 -0.175011 -0.101965 -0.084680   \n",
       "rooms               NaN       NaN -0.213368  0.129183  0.130531  0.254256   \n",
       "hacapo              NaN       NaN       NaN -0.150986 -0.124506 -0.067529   \n",
       "v14a                NaN       NaN       NaN       NaN  0.143143  0.036396   \n",
       "refrig              NaN       NaN       NaN       NaN       NaN  0.086002   \n",
       "...                 ...       ...       ...       ...       ...       ...   \n",
       "SQBhogar_nin        NaN       NaN       NaN       NaN       NaN       NaN   \n",
       "SQBovercrowding     NaN       NaN       NaN       NaN       NaN       NaN   \n",
       "SQBdependency       NaN       NaN       NaN       NaN       NaN       NaN   \n",
       "SQBmeaned           NaN       NaN       NaN       NaN       NaN       NaN   \n",
       "agesq               NaN       NaN       NaN       NaN       NaN       NaN   \n",
       "\n",
       "                     r4h1      r4h2      r4h3      r4m1  ...       age  \\\n",
       "hacdor           0.232508  0.059313  0.184857  0.268978  ... -0.118168   \n",
       "rooms           -0.066578  0.267627  0.195222 -0.032558  ...  0.077046   \n",
       "hacapo           0.226378  0.126645  0.240056  0.241452  ... -0.087773   \n",
       "v14a            -0.054769  0.018133 -0.015552 -0.006370  ...  0.027193   \n",
       "refrig          -0.047087 -0.022819 -0.046860 -0.023502  ...  0.029801   \n",
       "...                   ...       ...       ...       ...  ...       ...   \n",
       "SQBhogar_nin          NaN       NaN       NaN       NaN  ...       NaN   \n",
       "SQBovercrowding       NaN       NaN       NaN       NaN  ...       NaN   \n",
       "SQBdependency         NaN       NaN       NaN       NaN  ...       NaN   \n",
       "SQBmeaned             NaN       NaN       NaN       NaN  ...       NaN   \n",
       "agesq                 NaN       NaN       NaN       NaN  ...       NaN   \n",
       "\n",
       "                 SQBescolari    SQBage  SQBhogar_total  SQBedjefe  \\\n",
       "hacdor             -0.109862 -0.102725        0.350546  -0.082229   \n",
       "rooms               0.233679  0.068288        0.221595   0.198890   \n",
       "hacapo             -0.092703 -0.075528        0.373720  -0.071170   \n",
       "v14a                0.036483  0.023831        0.009100   0.018897   \n",
       "refrig              0.097128  0.025846       -0.052195   0.082159   \n",
       "...                      ...       ...             ...        ...   \n",
       "SQBhogar_nin             NaN       NaN             NaN        NaN   \n",
       "SQBovercrowding          NaN       NaN             NaN        NaN   \n",
       "SQBdependency            NaN       NaN             NaN        NaN   \n",
       "SQBmeaned                NaN       NaN             NaN        NaN   \n",
       "agesq                    NaN       NaN             NaN        NaN   \n",
       "\n",
       "                 SQBhogar_nin  SQBovercrowding  SQBdependency  SQBmeaned  \\\n",
       "hacdor               0.388043         0.794699       0.005278  -0.099127   \n",
       "rooms                0.007952        -0.355526      -0.027575   0.249956   \n",
       "hacapo               0.367025         0.640096       0.014411  -0.103303   \n",
       "v14a                -0.015193        -0.174969       0.005712   0.034702   \n",
       "refrig              -0.108718        -0.123054      -0.034080   0.117378   \n",
       "...                       ...              ...            ...        ...   \n",
       "SQBhogar_nin              NaN         0.477876       0.049113  -0.009583   \n",
       "SQBovercrowding           NaN              NaN      -0.049525  -0.150949   \n",
       "SQBdependency             NaN              NaN            NaN  -0.065314   \n",
       "SQBmeaned                 NaN              NaN            NaN        NaN   \n",
       "agesq                     NaN              NaN            NaN        NaN   \n",
       "\n",
       "                    agesq  \n",
       "hacdor          -0.102725  \n",
       "rooms            0.068288  \n",
       "hacapo          -0.075528  \n",
       "v14a             0.023831  \n",
       "refrig           0.025846  \n",
       "...                   ...  \n",
       "SQBhogar_nin    -0.278921  \n",
       "SQBovercrowding -0.218349  \n",
       "SQBdependency    0.395814  \n",
       "SQBmeaned       -0.112277  \n",
       "agesq                 NaN  \n",
       "\n",
       "[136 rows x 136 columns]"
      ]
     },
     "execution_count": 50,
     "metadata": {},
     "output_type": "execute_result"
    }
   ],
   "source": [
    "# Selecting the upper traingular matrix.\n",
    "corr_matrix = features.corr()\n",
    "upper_tri = corr_matrix.where(np.triu(np.ones(corr_matrix.shape),k=1).astype(np.bool))\n",
    "upper_tri"
   ]
  },
  {
   "cell_type": "code",
   "execution_count": 51,
   "id": "01ef2352",
   "metadata": {},
   "outputs": [
    {
     "data": {
      "text/plain": [
       "{'hhsize': ['tamhog'],\n",
       " 'hogar_total': ['tamhog', 'hhsize'],\n",
       " 'agesq': ['SQBage']}"
      ]
     },
     "execution_count": 51,
     "metadata": {},
     "output_type": "execute_result"
    }
   ],
   "source": [
    "# Finding perfectly correlated values.\n",
    "perfect_corr = {}\n",
    "\n",
    "for i in upper_tri:\n",
    "    perfect_corr[i] = []\n",
    "    for pos,val in enumerate(upper_tri[i].values) :\n",
    "        if val == 1 or val == -1:  \n",
    "            correlated_column = corr_matrix.columns[pos]\n",
    "            perfect_corr[i].append(correlated_column)\n",
    "            \n",
    "# Excluding empty values.\n",
    "perfect_corr = {k:v for k,v in perfect_corr.items() if v }\n",
    "perfect_corr"
   ]
  },
  {
   "cell_type": "markdown",
   "id": "3efba31d",
   "metadata": {},
   "source": [
    " - We'll drop the perfectly correlated variables."
   ]
  },
  {
   "cell_type": "code",
   "execution_count": 52,
   "id": "9d385422",
   "metadata": {},
   "outputs": [
    {
     "data": {
      "text/plain": [
       "(9557, 134)"
      ]
     },
     "execution_count": 52,
     "metadata": {},
     "output_type": "execute_result"
    }
   ],
   "source": [
    "train.drop(['tamhog','hhsize','SQBage'],axis=1,inplace=True)\n",
    "train.shape"
   ]
  },
  {
   "cell_type": "code",
   "execution_count": 53,
   "id": "4f515304",
   "metadata": {},
   "outputs": [
    {
     "data": {
      "text/plain": [
       "{'tamviv': ['r4t3'],\n",
       " 'abastaguafuera': ['abastaguadentro'],\n",
       " 'coopele': ['public'],\n",
       " 'sanitario3': ['sanitario2'],\n",
       " 'energcocinar3': ['energcocinar2'],\n",
       " 'female': ['male'],\n",
       " 'hogar_total': ['r4t3', 'tamviv'],\n",
       " 'area2': ['area1'],\n",
       " 'SQBescolari': ['escolari'],\n",
       " 'SQBhogar_total': ['r4t3', 'tamviv', 'hogar_total'],\n",
       " 'SQBedjefe': ['edjefe'],\n",
       " 'SQBovercrowding': ['overcrowding'],\n",
       " 'SQBdependency': ['dependency'],\n",
       " 'SQBmeaned': ['meaneduc'],\n",
       " 'agesq': ['age']}"
      ]
     },
     "execution_count": 53,
     "metadata": {},
     "output_type": "execute_result"
    }
   ],
   "source": [
    "# Finding strong relationship.\n",
    "features = train.drop('Target',axis=1)\n",
    "corr_matrix = features.corr()\n",
    "upper_tri = corr_matrix.where(np.triu(np.ones(corr_matrix.shape),k=1).astype(np.bool))\n",
    "\n",
    "strong_corr = {}\n",
    "\n",
    "for i in upper_tri:\n",
    "    strong_corr[i] = []\n",
    "    for pos,val in enumerate(upper_tri[i].values):\n",
    "        if val >= 0.9 or val <= -0.9:\n",
    "            corr_col = corr_matrix.columns[pos]\n",
    "            strong_corr[i].append(corr_col)\n",
    "            \n",
    "strong_corr = {k:v for k,v in strong_corr.items() if v}\n",
    "strong_corr"
   ]
  },
  {
   "cell_type": "markdown",
   "id": "1f0e99cd",
   "metadata": {},
   "source": [
    "- The squared column of some values as expected have strong correlation with each other.\n",
    "- We'll drop one of them."
   ]
  },
  {
   "cell_type": "code",
   "execution_count": 54,
   "id": "638e44a7",
   "metadata": {},
   "outputs": [
    {
     "name": "stdout",
     "output_type": "stream",
     "text": [
      "{'meaneduc', 'sanitario2', 'public', 'tamviv', 'escolari', 'r4t3', 'hogar_total', 'energcocinar2', 'male', 'overcrowding', 'edjefe', 'area1', 'age', 'dependency', 'abastaguadentro'}\n"
     ]
    }
   ],
   "source": [
    "cols_to_drop = []\n",
    "for i in strong_corr.keys():\n",
    "    for val in strong_corr[i]:\n",
    "        cols_to_drop.append(val)\n",
    "cols_to_drop = set(cols_to_drop)\n",
    "print(cols_to_drop)"
   ]
  },
  {
   "cell_type": "code",
   "execution_count": 55,
   "id": "8c307903",
   "metadata": {},
   "outputs": [
    {
     "data": {
      "text/plain": [
       "(9557, 119)"
      ]
     },
     "execution_count": 55,
     "metadata": {},
     "output_type": "execute_result"
    }
   ],
   "source": [
    "train.drop(cols_to_drop,axis=1,inplace=True)\n",
    "train.shape"
   ]
  },
  {
   "cell_type": "markdown",
   "id": "57c9f135",
   "metadata": {},
   "source": [
    "Now for the binary data, it is very important to check if there are any biases.\n",
    "- Let's suppose there are 90% of data belonging to one category.\n",
    "- It wouldn't make sense to use these biased data as it is only going to confuse our model."
   ]
  },
  {
   "cell_type": "code",
   "execution_count": 56,
   "id": "a225d3a1",
   "metadata": {},
   "outputs": [
    {
     "data": {
      "text/plain": [
       "101"
      ]
     },
     "execution_count": 56,
     "metadata": {},
     "output_type": "execute_result"
    }
   ],
   "source": [
    "len(binary_data)"
   ]
  },
  {
   "cell_type": "markdown",
   "id": "be12a1ca",
   "metadata": {},
   "source": [
    "- As we have dropped some variables with perfect correlation.\n",
    "- Let's redefine binary data and see if there are any biases."
   ]
  },
  {
   "cell_type": "code",
   "execution_count": 57,
   "id": "8cdb45cf",
   "metadata": {},
   "outputs": [
    {
     "data": {
      "text/plain": [
       "95"
      ]
     },
     "execution_count": 57,
     "metadata": {},
     "output_type": "execute_result"
    }
   ],
   "source": [
    "binary_data = [x for x in binary_data if x in train.columns]\n",
    "len(binary_data)"
   ]
  },
  {
   "cell_type": "code",
   "execution_count": 58,
   "id": "4d17719f",
   "metadata": {},
   "outputs": [
    {
     "data": {
      "text/plain": [
       "58"
      ]
     },
     "execution_count": 58,
     "metadata": {},
     "output_type": "execute_result"
    }
   ],
   "source": [
    "biased_cols = []\n",
    "for col in binary_data:\n",
    "    value_counts= np.round(train[col].value_counts(normalize=True),2)\n",
    "    # Setting the thresolds to 90%.\n",
    "    if value_counts[0] >= 0.9 or value_counts[1] >= 0.9:\n",
    "        biased_cols.append(col)\n",
    "len(biased_cols)        "
   ]
  },
  {
   "cell_type": "markdown",
   "id": "56435064",
   "metadata": {},
   "source": [
    "- These 58 columns have one of values same for more than 90% records.\n",
    "- These biased data could confuse the model.\n",
    "- We'll drop these."
   ]
  },
  {
   "cell_type": "code",
   "execution_count": 59,
   "id": "e3e15dc0",
   "metadata": {},
   "outputs": [
    {
     "data": {
      "text/plain": [
       "(9557, 61)"
      ]
     },
     "execution_count": 59,
     "metadata": {},
     "output_type": "execute_result"
    }
   ],
   "source": [
    "train.drop(biased_cols,axis=1,inplace=True)\n",
    "train.shape"
   ]
  },
  {
   "cell_type": "code",
   "execution_count": 60,
   "id": "1e740598",
   "metadata": {},
   "outputs": [
    {
     "name": "stdout",
     "output_type": "stream",
     "text": [
      "Index(['rooms', 'v18q', 'r4h1', 'r4h2', 'r4h3', 'r4m1', 'r4m2', 'r4m3', 'r4t1',\n",
      "       'r4t2', 'paredblolad', 'paredpreb', 'paredmad', 'pisomoscer',\n",
      "       'pisocemento', 'cielorazo', 'coopele', 'sanitario3', 'energcocinar3',\n",
      "       'elimbasu1', 'epared2', 'epared3', 'etecho1', 'etecho2', 'etecho3',\n",
      "       'eviv2', 'eviv3', 'female', 'estadocivil1', 'estadocivil2',\n",
      "       'estadocivil3', 'estadocivil7', 'parentesco1', 'parentesco2',\n",
      "       'parentesco3', 'hogar_nin', 'hogar_adul', 'hogar_mayor', 'edjefa',\n",
      "       'instlevel1', 'instlevel2', 'instlevel3', 'instlevel4', 'instlevel5',\n",
      "       'instlevel8', 'bedrooms', 'tipovivi1', 'tipovivi3', 'television',\n",
      "       'qmobilephone', 'lugar1', 'area2', 'SQBescolari', 'SQBhogar_total',\n",
      "       'SQBedjefe', 'SQBhogar_nin', 'SQBovercrowding', 'SQBdependency',\n",
      "       'SQBmeaned', 'agesq', 'Target'],\n",
      "      dtype='object')\n"
     ]
    }
   ],
   "source": [
    "print(train.columns)"
   ]
  },
  {
   "cell_type": "markdown",
   "id": "7a73e860",
   "metadata": {},
   "source": [
    "Now we have just 61 features after dropping redundant features and biased features."
   ]
  },
  {
   "cell_type": "markdown",
   "id": "e9db9b7d",
   "metadata": {},
   "source": [
    "#### Converting the data to numpy arrays."
   ]
  },
  {
   "cell_type": "code",
   "execution_count": 61,
   "id": "b69e63d9",
   "metadata": {},
   "outputs": [
    {
     "data": {
      "text/plain": [
       "((9557, 60), (9557,))"
      ]
     },
     "execution_count": 61,
     "metadata": {},
     "output_type": "execute_result"
    }
   ],
   "source": [
    "features = train.drop('Target',axis=1)\n",
    "target = train['Target']\n",
    "X = features.to_numpy()\n",
    "y = target.to_numpy()\n",
    "X.shape,y.shape"
   ]
  },
  {
   "cell_type": "markdown",
   "id": "5c081f40",
   "metadata": {},
   "source": [
    "#### Splitting the data into train and test."
   ]
  },
  {
   "cell_type": "code",
   "execution_count": 62,
   "id": "fe0d3368",
   "metadata": {},
   "outputs": [
    {
     "name": "stdout",
     "output_type": "stream",
     "text": [
      "Shape of training datasets  (7645, 60) (7645,)\n",
      "Shape of testing datasets  (1912, 60) (1912,)\n"
     ]
    }
   ],
   "source": [
    "# Taking stratified sampling so that model could be evaluated in the same proportion as observed in data.\n",
    "X_train, X_test, y_train, y_test = train_test_split(X,y,test_size=0.2,random_state=1,stratify=y)\n",
    "print ('Shape of training datasets ',X_train.shape,y_train.shape)\n",
    "print ('Shape of testing datasets ',X_test.shape,y_test.shape)"
   ]
  },
  {
   "cell_type": "markdown",
   "id": "57bea67f",
   "metadata": {},
   "source": [
    "### Training the model"
   ]
  },
  {
   "cell_type": "code",
   "execution_count": 63,
   "id": "17e0a58b",
   "metadata": {},
   "outputs": [],
   "source": [
    "# Initialising the model\n",
    "classifier = RandomForestClassifier(n_estimators=500,criterion='gini',n_jobs=-1,random_state=1,max_features=10)"
   ]
  },
  {
   "cell_type": "code",
   "execution_count": 64,
   "id": "3e1b526d",
   "metadata": {},
   "outputs": [
    {
     "data": {
      "text/plain": [
       "4    4796\n",
       "2    1278\n",
       "3     967\n",
       "1     604\n",
       "dtype: int64"
      ]
     },
     "execution_count": 64,
     "metadata": {},
     "output_type": "execute_result"
    }
   ],
   "source": [
    "pd.Series(y_train).value_counts()"
   ]
  },
  {
   "cell_type": "code",
   "execution_count": 65,
   "id": "1d388e9d",
   "metadata": {},
   "outputs": [
    {
     "data": {
      "text/plain": [
       "RandomForestClassifier(max_features=10, n_estimators=500, n_jobs=-1,\n",
       "                       random_state=1)"
      ]
     },
     "execution_count": 65,
     "metadata": {},
     "output_type": "execute_result"
    }
   ],
   "source": [
    "# Training the model\n",
    "classifier.fit(X_train, y_train)"
   ]
  },
  {
   "cell_type": "code",
   "execution_count": 66,
   "id": "e36fa08a",
   "metadata": {},
   "outputs": [
    {
     "data": {
      "text/plain": [
       "array([4, 3, 4, 4, 3], dtype=int64)"
      ]
     },
     "execution_count": 66,
     "metadata": {},
     "output_type": "execute_result"
    }
   ],
   "source": [
    "# Predictions on test data.\n",
    "preds = classifier.predict(X_test)\n",
    "preds[:5]"
   ]
  },
  {
   "cell_type": "code",
   "execution_count": 67,
   "id": "eb09691a",
   "metadata": {},
   "outputs": [
    {
     "name": "stdout",
     "output_type": "stream",
     "text": [
      "              precision    recall  f1-score   support\n",
      "\n",
      "           1       0.98      0.85      0.91       151\n",
      "           2       0.91      0.88      0.89       319\n",
      "           3       0.97      0.80      0.88       242\n",
      "           4       0.94      0.99      0.97      1200\n",
      "\n",
      "    accuracy                           0.94      1912\n",
      "   macro avg       0.95      0.88      0.91      1912\n",
      "weighted avg       0.94      0.94      0.94      1912\n",
      "\n"
     ]
    }
   ],
   "source": [
    "# Classification result\n",
    "print(classification_report(y_test, preds))"
   ]
  },
  {
   "cell_type": "code",
   "execution_count": 68,
   "id": "fa222a29",
   "metadata": {},
   "outputs": [
    {
     "data": {
      "text/plain": [
       "93.93305439330544"
      ]
     },
     "execution_count": 68,
     "metadata": {},
     "output_type": "execute_result"
    }
   ],
   "source": [
    "accuracy_score(y_test, preds) * 100"
   ]
  },
  {
   "cell_type": "code",
   "execution_count": 69,
   "id": "4fde39e5",
   "metadata": {},
   "outputs": [
    {
     "data": {
      "image/png": "[encoded data removed]",
      "text/plain": [
       "<Figure size 432x288 with 2 Axes>"
      ]
     },
     "metadata": {
      "needs_background": "light"
     },
     "output_type": "display_data"
    }
   ],
   "source": [
    "# Confusion Matrix\n",
    "sns.reset_orig()\n",
    "ConfusionMatrixDisplay.from_predictions(y_test,preds,labels = classifier.classes_)\n",
    "plt.title('Confusion Matrix')\n",
    "plt.show()"
   ]
  },
  {
   "cell_type": "markdown",
   "id": "10bb9f86",
   "metadata": {},
   "source": [
    "- We have got a very good accuracy score.\n",
    "- The model has learnt very well for all classes.\n",
    "- Due to max data points belonging to class 4 , it has maximum f1 score."
   ]
  },
  {
   "cell_type": "code",
   "execution_count": 70,
   "id": "b0f3fd5b",
   "metadata": {},
   "outputs": [
    {
     "data": {
      "image/png": "[encoded data removed]",
      "text/plain": [
       "<Figure size 1440x720 with 1 Axes>"
      ]
     },
     "metadata": {
      "needs_background": "light"
     },
     "output_type": "display_data"
    }
   ],
   "source": [
    "# Top 20 Features.\n",
    "features_df = pd.DataFrame({'cols': features.columns,'Gini Importance': classifier.feature_importances_})\n",
    "features_df.sort_values(by='Gini Importance',ascending=False,inplace=True)\n",
    "\n",
    "plt.figure(figsize=(20,10))\n",
    "sns.barplot(y='cols',x='Gini Importance',data=features_df[:20],color='b')\n",
    "plt.title('Top 20 features', size=15)\n",
    "plt.show()"
   ]
  },
  {
   "cell_type": "markdown",
   "id": "e9d2966c",
   "metadata": {},
   "source": [
    "### Cross Validation"
   ]
  },
  {
   "cell_type": "markdown",
   "id": "335ffaa8",
   "metadata": {},
   "source": [
    "- As our data is imbalanced, we'll use Stratified K-fold cross validation."
   ]
  },
  {
   "cell_type": "code",
   "execution_count": 71,
   "id": "9542f979",
   "metadata": {},
   "outputs": [
    {
     "name": "stdout",
     "output_type": "stream",
     "text": [
      "For iteration 1, accuracy score is 0.9518828451882845\n",
      "For iteration 2, accuracy score is 0.944560669456067\n",
      "For iteration 3, accuracy score is 0.9435146443514645\n",
      "For iteration 4, accuracy score is 0.9424686192468619\n",
      "For iteration 5, accuracy score is 0.9424686192468619\n",
      "For iteration 6, accuracy score is 0.9361924686192469\n",
      "For iteration 7, accuracy score is 0.948744769874477\n",
      "For iteration 8, accuracy score is 0.949738219895288\n",
      "For iteration 9, accuracy score is 0.9350785340314136\n",
      "For iteration 10, accuracy score is 0.9486910994764398\n"
     ]
    }
   ],
   "source": [
    "k_fold = StratifiedKFold(n_splits=10,shuffle=True,random_state=1)\n",
    "\n",
    "scores = []\n",
    "\n",
    "i = 1\n",
    "\n",
    "# Using whole datsets.\n",
    "for train_index, test_index in k_fold.split(X,y):\n",
    "    X_train_fold , X_test_fold = X[train_index], X[test_index]\n",
    "    y_train_fold , y_test_fold = y[train_index], y[test_index]\n",
    "    classifier.fit(X_train_fold, y_train_fold)\n",
    "    accuracy_score = classifier.score(X_test_fold, y_test_fold)\n",
    "    scores.append(accuracy_score)\n",
    "    \n",
    "    global i\n",
    "    print(f'For iteration {i}, accuracy score is {accuracy_score}')\n",
    "    i +=1"
   ]
  },
  {
   "cell_type": "code",
   "execution_count": 72,
   "id": "80b79362",
   "metadata": {},
   "outputs": [
    {
     "name": "stdout",
     "output_type": "stream",
     "text": [
      "Maximum Score =  0.95\n",
      "Minimum Score =  0.94\n",
      "Average Score  =  0.94\n",
      "Standard Deviation =  0.01\n"
     ]
    }
   ],
   "source": [
    "print('Maximum Score = ',np.round(max(scores),2))\n",
    "print('Minimum Score = ',np.round(min(scores),2))\n",
    "print('Average Score  = ',np.round(np.mean(np.array(scores)),2))\n",
    "print('Standard Deviation = ',np.round(np.std(np.array(scores)),2))"
   ]
  },
  {
   "cell_type": "markdown",
   "id": "cd0e41da",
   "metadata": {},
   "source": [
    "- The model performs well with a very less variation."
   ]
  },
  {
   "cell_type": "markdown",
   "id": "dfdd02a4",
   "metadata": {},
   "source": [
    "### Predictions on test data."
   ]
  },
  {
   "cell_type": "code",
   "execution_count": 73,
   "id": "62d65f80",
   "metadata": {},
   "outputs": [
    {
     "data": {
      "text/plain": [
       "(23856, 60)"
      ]
     },
     "execution_count": 73,
     "metadata": {},
     "output_type": "execute_result"
    }
   ],
   "source": [
    "test_input = test[features.columns]\n",
    "test_input.shape"
   ]
  },
  {
   "cell_type": "code",
   "execution_count": 74,
   "id": "c48a5163",
   "metadata": {},
   "outputs": [],
   "source": [
    "# There is only one feature which needs mapping.\n",
    "test_input['edjefa'] = test_input['edjefa'].apply(map_yes_no)"
   ]
  },
  {
   "cell_type": "code",
   "execution_count": 75,
   "id": "3cb188f2",
   "metadata": {},
   "outputs": [
    {
     "data": {
      "text/plain": [
       "31"
      ]
     },
     "execution_count": 75,
     "metadata": {},
     "output_type": "execute_result"
    }
   ],
   "source": [
    "test_input.isnull().sum().sum()"
   ]
  },
  {
   "cell_type": "code",
   "execution_count": 76,
   "id": "c8956dbf",
   "metadata": {},
   "outputs": [
    {
     "data": {
      "text/plain": [
       "['SQBmeaned']"
      ]
     },
     "execution_count": 76,
     "metadata": {},
     "output_type": "execute_result"
    }
   ],
   "source": [
    "missing_cols_test = [x for x in test_input.columns if test_input[x].isnull().any()]\n",
    "missing_cols_test"
   ]
  },
  {
   "cell_type": "code",
   "execution_count": 77,
   "id": "d9c272e3",
   "metadata": {},
   "outputs": [
    {
     "data": {
      "text/plain": [
       "31"
      ]
     },
     "execution_count": 77,
     "metadata": {},
     "output_type": "execute_result"
    }
   ],
   "source": [
    "test_input['SQBmeaned'].isnull().sum()"
   ]
  },
  {
   "cell_type": "markdown",
   "id": "c469d97b",
   "metadata": {},
   "source": [
    "- For the missing values , we'll use knn imputations based on training data."
   ]
  },
  {
   "cell_type": "code",
   "execution_count": 78,
   "id": "eaa18032",
   "metadata": {},
   "outputs": [],
   "source": [
    "imputer = KNNImputer(n_neighbors=7)"
   ]
  },
  {
   "cell_type": "code",
   "execution_count": 79,
   "id": "c6bfcdb9",
   "metadata": {},
   "outputs": [],
   "source": [
    "model_input = imputer.fit_transform(test_input)"
   ]
  },
  {
   "cell_type": "code",
   "execution_count": 80,
   "id": "7161ec46",
   "metadata": {},
   "outputs": [
    {
     "data": {
      "text/html": [
       "<div>\n",
       "<style scoped>\n",
       "    .dataframe tbody tr th:only-of-type {\n",
       "        vertical-align: middle;\n",
       "    }\n",
       "\n",
       "    .dataframe tbody tr th {\n",
       "        vertical-align: top;\n",
       "    }\n",
       "\n",
       "    .dataframe thead th {\n",
       "        text-align: right;\n",
       "    }\n",
       "</style>\n",
       "<table border=\"1\" class=\"dataframe\">\n",
       "  <thead>\n",
       "    <tr style=\"text-align: right;\">\n",
       "      <th></th>\n",
       "      <th>Id</th>\n",
       "      <th>v2a1</th>\n",
       "      <th>hacdor</th>\n",
       "      <th>rooms</th>\n",
       "      <th>hacapo</th>\n",
       "      <th>v14a</th>\n",
       "      <th>refrig</th>\n",
       "      <th>v18q</th>\n",
       "      <th>v18q1</th>\n",
       "      <th>r4h1</th>\n",
       "      <th>...</th>\n",
       "      <th>SQBescolari</th>\n",
       "      <th>SQBage</th>\n",
       "      <th>SQBhogar_total</th>\n",
       "      <th>SQBedjefe</th>\n",
       "      <th>SQBhogar_nin</th>\n",
       "      <th>SQBovercrowding</th>\n",
       "      <th>SQBdependency</th>\n",
       "      <th>SQBmeaned</th>\n",
       "      <th>agesq</th>\n",
       "      <th>Target</th>\n",
       "    </tr>\n",
       "  </thead>\n",
       "  <tbody>\n",
       "    <tr>\n",
       "      <th>0</th>\n",
       "      <td>ID_2f6873615</td>\n",
       "      <td>NaN</td>\n",
       "      <td>0</td>\n",
       "      <td>5</td>\n",
       "      <td>0</td>\n",
       "      <td>1</td>\n",
       "      <td>1</td>\n",
       "      <td>0</td>\n",
       "      <td>NaN</td>\n",
       "      <td>1</td>\n",
       "      <td>...</td>\n",
       "      <td>0</td>\n",
       "      <td>16</td>\n",
       "      <td>9</td>\n",
       "      <td>0</td>\n",
       "      <td>1</td>\n",
       "      <td>2.25</td>\n",
       "      <td>0.25</td>\n",
       "      <td>272.25</td>\n",
       "      <td>16</td>\n",
       "      <td>4</td>\n",
       "    </tr>\n",
       "    <tr>\n",
       "      <th>1</th>\n",
       "      <td>ID_1c78846d2</td>\n",
       "      <td>NaN</td>\n",
       "      <td>0</td>\n",
       "      <td>5</td>\n",
       "      <td>0</td>\n",
       "      <td>1</td>\n",
       "      <td>1</td>\n",
       "      <td>0</td>\n",
       "      <td>NaN</td>\n",
       "      <td>1</td>\n",
       "      <td>...</td>\n",
       "      <td>256</td>\n",
       "      <td>1681</td>\n",
       "      <td>9</td>\n",
       "      <td>0</td>\n",
       "      <td>1</td>\n",
       "      <td>2.25</td>\n",
       "      <td>0.25</td>\n",
       "      <td>272.25</td>\n",
       "      <td>1681</td>\n",
       "      <td>4</td>\n",
       "    </tr>\n",
       "    <tr>\n",
       "      <th>2</th>\n",
       "      <td>ID_e5442cf6a</td>\n",
       "      <td>NaN</td>\n",
       "      <td>0</td>\n",
       "      <td>5</td>\n",
       "      <td>0</td>\n",
       "      <td>1</td>\n",
       "      <td>1</td>\n",
       "      <td>0</td>\n",
       "      <td>NaN</td>\n",
       "      <td>1</td>\n",
       "      <td>...</td>\n",
       "      <td>289</td>\n",
       "      <td>1681</td>\n",
       "      <td>9</td>\n",
       "      <td>0</td>\n",
       "      <td>1</td>\n",
       "      <td>2.25</td>\n",
       "      <td>0.25</td>\n",
       "      <td>272.25</td>\n",
       "      <td>1681</td>\n",
       "      <td>4</td>\n",
       "    </tr>\n",
       "    <tr>\n",
       "      <th>3</th>\n",
       "      <td>ID_a8db26a79</td>\n",
       "      <td>NaN</td>\n",
       "      <td>0</td>\n",
       "      <td>14</td>\n",
       "      <td>0</td>\n",
       "      <td>1</td>\n",
       "      <td>1</td>\n",
       "      <td>1</td>\n",
       "      <td>1.0</td>\n",
       "      <td>0</td>\n",
       "      <td>...</td>\n",
       "      <td>256</td>\n",
       "      <td>3481</td>\n",
       "      <td>1</td>\n",
       "      <td>256</td>\n",
       "      <td>0</td>\n",
       "      <td>1.00</td>\n",
       "      <td>0.00</td>\n",
       "      <td>256.00</td>\n",
       "      <td>3481</td>\n",
       "      <td>4</td>\n",
       "    </tr>\n",
       "    <tr>\n",
       "      <th>4</th>\n",
       "      <td>ID_a62966799</td>\n",
       "      <td>175000.0</td>\n",
       "      <td>0</td>\n",
       "      <td>4</td>\n",
       "      <td>0</td>\n",
       "      <td>1</td>\n",
       "      <td>1</td>\n",
       "      <td>1</td>\n",
       "      <td>1.0</td>\n",
       "      <td>0</td>\n",
       "      <td>...</td>\n",
       "      <td>121</td>\n",
       "      <td>324</td>\n",
       "      <td>1</td>\n",
       "      <td>0</td>\n",
       "      <td>1</td>\n",
       "      <td>0.25</td>\n",
       "      <td>64.00</td>\n",
       "      <td>NaN</td>\n",
       "      <td>324</td>\n",
       "      <td>4</td>\n",
       "    </tr>\n",
       "  </tbody>\n",
       "</table>\n",
       "<p>5 rows × 143 columns</p>\n",
       "</div>"
      ],
      "text/plain": [
       "             Id      v2a1  hacdor  rooms  hacapo  v14a  refrig  v18q  v18q1  \\\n",
       "0  ID_2f6873615       NaN       0      5       0     1       1     0    NaN   \n",
       "1  ID_1c78846d2       NaN       0      5       0     1       1     0    NaN   \n",
       "2  ID_e5442cf6a       NaN       0      5       0     1       1     0    NaN   \n",
       "3  ID_a8db26a79       NaN       0     14       0     1       1     1    1.0   \n",
       "4  ID_a62966799  175000.0       0      4       0     1       1     1    1.0   \n",
       "\n",
       "   r4h1  ...  SQBescolari  SQBage  SQBhogar_total  SQBedjefe  SQBhogar_nin  \\\n",
       "0     1  ...            0      16               9          0             1   \n",
       "1     1  ...          256    1681               9          0             1   \n",
       "2     1  ...          289    1681               9          0             1   \n",
       "3     0  ...          256    3481               1        256             0   \n",
       "4     0  ...          121     324               1          0             1   \n",
       "\n",
       "   SQBovercrowding  SQBdependency  SQBmeaned  agesq  Target  \n",
       "0             2.25           0.25     272.25     16       4  \n",
       "1             2.25           0.25     272.25   1681       4  \n",
       "2             2.25           0.25     272.25   1681       4  \n",
       "3             1.00           0.00     256.00   3481       4  \n",
       "4             0.25          64.00        NaN    324       4  \n",
       "\n",
       "[5 rows x 143 columns]"
      ]
     },
     "execution_count": 80,
     "metadata": {},
     "output_type": "execute_result"
    }
   ],
   "source": [
    "# Predictions.\n",
    "test['Target'] = classifier.predict(model_input)\n",
    "test.head()"
   ]
  },
  {
   "cell_type": "code",
   "execution_count": 81,
   "id": "50445e83",
   "metadata": {},
   "outputs": [
    {
     "data": {
      "text/plain": [
       "4    19024\n",
       "2     3400\n",
       "1      738\n",
       "3      694\n",
       "Name: Target, dtype: int64"
      ]
     },
     "execution_count": 81,
     "metadata": {},
     "output_type": "execute_result"
    }
   ],
   "source": [
    "test['Target'].value_counts()"
   ]
  }
 ],
 "metadata": {
  "kernelspec": {
   "display_name": "Python 3 (ipykernel)",
   "language": "python",
   "name": "python3"
  },
  "language_info": {
   "codemirror_mode": {
    "name": "ipython",
    "version": 3
   },
   "file_extension": ".py",
   "mimetype": "text/x-python",
   "name": "python",
   "nbconvert_exporter": "python",
   "pygments_lexer": "ipython3",
   "version": "3.9.7"
  }
 },
 "nbformat": 4,
 "nbformat_minor": 5
}
